{
 "cells": [
  {
   "cell_type": "markdown",
   "metadata": {},
   "source": [
    "<img src=\"https://i2.wp.com/hackwagon.com/wp-content/uploads/2017/02/Logo-Web-Export.png?ssl=1\" width=200/>\n",
    "\n",
    "<h1>Hackwagon Academy DS102 - Problem Set 3</h1>\n",
    "<hr>\n",
    "\n",
    "This Problem Set consists of 20 questions, with each correct answer to be awarded 1 mark, totalling up to 20 marks.\n",
    "\n",
    "If you have any questions to the Problem Set, feel free to send a message to your TAs or Instructors in the Telegram chat. You are encouraged to also discuss the problem sets within your own groups.\n",
    "\n",
    "Minor syntax errors are awarded half the mark for a question."
   ]
  },
  {
   "cell_type": "code",
   "execution_count": 1,
   "metadata": {},
   "outputs": [],
   "source": [
    "#Before you start, please perform the following 2 steps:\n",
    "#1. Rename the file to FirstName_LastName Hackwagon Academy DS102 - Problem Set 3 e.g. John_Doe Hackwagon Academy DS102 - Problem Set 1\n",
    "\n",
    "#2. Fill in your details here: Chen Jie\n",
    "\n",
    "\n",
    "# FOR TA/INSTRUCTOR \n",
    "# Total Marks:  / 20"
   ]
  },
  {
   "cell_type": "code",
   "execution_count": 2,
   "metadata": {},
   "outputs": [],
   "source": [
    "import warnings\n",
    "warnings.filterwarnings('ignore')"
   ]
  },
  {
   "cell_type": "markdown",
   "metadata": {},
   "source": [
    "#### Credits \n",
    "\n",
    "This problem set is inspired by the [Lending Club Loan Data](https://www.kaggle.com/wendykan/lending-club-loan-data). "
   ]
  },
  {
   "cell_type": "markdown",
   "metadata": {},
   "source": [
    "<img src=\"https://d1ic4altzx8ueg.cloudfront.net/niche-builder/5cb94cef96518.png\" width=300>\n",
    "\n",
    "## Context \n",
    "\n",
    "LendingClub is a US peer-to-peer lending company, headquartered in San Francisco, California. It was the first peer-to-peer lender to register its offerings as securities with the Securities and Exchange Commission (SEC), and to offer loan trading on a secondary market. \n",
    "\n",
    "Your first project is to help LendingClub prepare a prediction model to help them detect loan defaulters. Having already conducted the sufficient exploratory data analysis, your project manager, Silver, wants you to to prepare several machine learning models. Using the dataset which you have preprocessed, `loans_transformed-200k.csv`, you will have to create both <b>supervised and unsupervised machine learning models</b>. Additionally, the `all_loan_desc.csv` dataset prepared for you to prepare a model on the loans descriptions. \n",
    "\n",
    "There are a total of 4 parts to this problem set:\n",
    "\n",
    "1. Naive Bayes Classifier - 9 marks\n",
    "2. K-Means Clustering - 6 marks\n",
    "3. Decision Tree Classifier - 3 marks\n",
    "4. Performance Measures - 2 marks"
   ]
  },
  {
   "cell_type": "markdown",
   "metadata": {},
   "source": [
    "## Naive Bayes Classifier - 9 marks\n",
    "\n",
    "Another team has prepared for you all of the descriptions within the loans dataset. This dataset has filtered for you rows with descriptions and the target variable the loan status. Your task is to clean it further and use <b>Naive Bayes Classification</b> technique to develop a model for detecting loan defaulters."
   ]
  },
  {
   "cell_type": "markdown",
   "metadata": {},
   "source": [
    "### Open Loans Decription File \n",
    "\n",
    "Open the file `all_loan_desc.csv` and store it as `all_desc_df`.\n",
    "\n",
    "What is the shape of `all_desc_df`?"
   ]
  },
  {
   "cell_type": "code",
   "execution_count": 3,
   "metadata": {
    "scrolled": true
   },
   "outputs": [
    {
     "name": "stdout",
     "output_type": "stream",
     "text": [
      "(126067, 2)\n"
     ]
    },
    {
     "data": {
      "text/html": [
       "<div>\n",
       "<style scoped>\n",
       "    .dataframe tbody tr th:only-of-type {\n",
       "        vertical-align: middle;\n",
       "    }\n",
       "\n",
       "    .dataframe tbody tr th {\n",
       "        vertical-align: top;\n",
       "    }\n",
       "\n",
       "    .dataframe thead th {\n",
       "        text-align: right;\n",
       "    }\n",
       "</style>\n",
       "<table border=\"1\" class=\"dataframe\">\n",
       "  <thead>\n",
       "    <tr style=\"text-align: right;\">\n",
       "      <th></th>\n",
       "      <th>desc</th>\n",
       "      <th>loan_status</th>\n",
       "    </tr>\n",
       "  </thead>\n",
       "  <tbody>\n",
       "    <tr>\n",
       "      <th>0</th>\n",
       "      <td></td>\n",
       "      <td>Charged Off</td>\n",
       "    </tr>\n",
       "    <tr>\n",
       "      <th>1</th>\n",
       "      <td></td>\n",
       "      <td>Fully Paid</td>\n",
       "    </tr>\n",
       "    <tr>\n",
       "      <th>2</th>\n",
       "      <td>I currently have a loan out with CashCall. The...</td>\n",
       "      <td>Fully Paid</td>\n",
       "    </tr>\n",
       "    <tr>\n",
       "      <th>3</th>\n",
       "      <td>Consolidate debt</td>\n",
       "      <td>Current</td>\n",
       "    </tr>\n",
       "    <tr>\n",
       "      <th>4</th>\n",
       "      <td>This loan will be used solely to consolidate c...</td>\n",
       "      <td>Fully Paid</td>\n",
       "    </tr>\n",
       "  </tbody>\n",
       "</table>\n",
       "</div>"
      ],
      "text/plain": [
       "                                                desc  loan_status\n",
       "0                                                     Charged Off\n",
       "1                                                      Fully Paid\n",
       "2  I currently have a loan out with CashCall. The...   Fully Paid\n",
       "3                                   Consolidate debt      Current\n",
       "4  This loan will be used solely to consolidate c...   Fully Paid"
      ]
     },
     "execution_count": 3,
     "metadata": {},
     "output_type": "execute_result"
    }
   ],
   "source": [
    "import pandas as pd\n",
    "all_desc_df = pd.read_csv('all_loan_desc.csv')\n",
    "print(all_desc_df.shape)\n",
    "all_desc_df.head()"
   ]
  },
  {
   "cell_type": "markdown",
   "metadata": {},
   "source": [
    "### Q1. Integer Encoding\n",
    "\n",
    "Tasks:\n",
    "\n",
    "1. Observe the unique values in `loan_status`.  \n",
    "2.  Create a new column `target` based on the values in `loan_status`. \n",
    "\n",
    "    Mapping:\n",
    "    * `1` if `loan_status` contains `Charged Off`.\n",
    "    * `0` otherwise\n",
    "\n",
    "\n",
    "\n",
    "3. Reduce the dataframe to just the columns `desc` and `target`.\n",
    "\n",
    " or `Default`\n",
    " \n",
    " \n",
    "**Expected Outputs:**\n",
    "```\n",
    "array(['Charged Off', 'Fully Paid', 'Current', 'Late (16-30 days)',\n",
    "       'Late (31-120 days)', 'In Grace Period',\n",
    "       'Does not meet the credit policy. Status:Fully Paid',\n",
    "       'Does not meet the credit policy. Status:Charged Off'],\n",
    "      dtype=object)\n",
    "```\n",
    "\n",
    "<img src=\"https://i.imgur.com/ztyxJh0.png\">"
   ]
  },
  {
   "cell_type": "code",
   "execution_count": 4,
   "metadata": {},
   "outputs": [
    {
     "name": "stdout",
     "output_type": "stream",
     "text": [
      "['Charged Off' 'Fully Paid' 'Current' 'Late (16-30 days)'\n",
      " 'Late (31-120 days)' 'In Grace Period'\n",
      " 'Does not meet the credit policy. Status:Fully Paid'\n",
      " 'Does not meet the credit policy. Status:Charged Off']\n"
     ]
    },
    {
     "data": {
      "text/html": [
       "<div>\n",
       "<style scoped>\n",
       "    .dataframe tbody tr th:only-of-type {\n",
       "        vertical-align: middle;\n",
       "    }\n",
       "\n",
       "    .dataframe tbody tr th {\n",
       "        vertical-align: top;\n",
       "    }\n",
       "\n",
       "    .dataframe thead th {\n",
       "        text-align: right;\n",
       "    }\n",
       "</style>\n",
       "<table border=\"1\" class=\"dataframe\">\n",
       "  <thead>\n",
       "    <tr style=\"text-align: right;\">\n",
       "      <th></th>\n",
       "      <th>desc</th>\n",
       "      <th>target</th>\n",
       "    </tr>\n",
       "  </thead>\n",
       "  <tbody>\n",
       "    <tr>\n",
       "      <th>0</th>\n",
       "      <td></td>\n",
       "      <td>1</td>\n",
       "    </tr>\n",
       "    <tr>\n",
       "      <th>1</th>\n",
       "      <td></td>\n",
       "      <td>0</td>\n",
       "    </tr>\n",
       "    <tr>\n",
       "      <th>2</th>\n",
       "      <td>I currently have a loan out with CashCall. The...</td>\n",
       "      <td>0</td>\n",
       "    </tr>\n",
       "    <tr>\n",
       "      <th>3</th>\n",
       "      <td>Consolidate debt</td>\n",
       "      <td>0</td>\n",
       "    </tr>\n",
       "    <tr>\n",
       "      <th>4</th>\n",
       "      <td>This loan will be used solely to consolidate c...</td>\n",
       "      <td>0</td>\n",
       "    </tr>\n",
       "  </tbody>\n",
       "</table>\n",
       "</div>"
      ],
      "text/plain": [
       "                                                desc  target\n",
       "0                                                          1\n",
       "1                                                          0\n",
       "2  I currently have a loan out with CashCall. The...       0\n",
       "3                                   Consolidate debt       0\n",
       "4  This loan will be used solely to consolidate c...       0"
      ]
     },
     "execution_count": 4,
     "metadata": {},
     "output_type": "execute_result"
    }
   ],
   "source": [
    "print(all_desc_df['loan_status'].unique())\n",
    "\n",
    "def transform_loan_status(loan_status):\n",
    "    if \"Charged Off\" in loan_status:\n",
    "        return 1\n",
    "    else:\n",
    "        return 0\n",
    "\n",
    "all_desc_df['target'] = all_desc_df['loan_status'].apply(transform_loan_status)\n",
    "\n",
    "all_desc_df = all_desc_df[['desc','target']]\n",
    "all_desc_df.head()"
   ]
  },
  {
   "cell_type": "code",
   "execution_count": 5,
   "metadata": {},
   "outputs": [],
   "source": [
    "## TA/INSTRUCTOR ONLY\n",
    "## MARK AWARDED: /1"
   ]
  },
  {
   "cell_type": "markdown",
   "metadata": {},
   "source": [
    "### Q2. Simple Cleaning\n",
    "\n",
    "Conduct simple cleaning on the `desc` variable, such that the descriptions:\n",
    "\n",
    "1. Contain only alphanumeric characters (<i>hint: use regular expression `\"[^0-9a-zA-Z\\ ]\"`</i>)\n",
    "2. Are entirely lowercase\n",
    "3. Does not have leading or trailing spaces \n",
    "\n",
    "Also remove rows where `desc` is an empty string.\n",
    "\n",
    "4. Are not empty strings (<i>hint: use filter to check for empty strings `''`</i>)\n",
    "\n",
    "\n",
    "What is the shape of the dataset after cleaning?\n",
    "\n",
    "\n",
    "**Expected Output:**\n",
    "```\n",
    "    125813 rows × 2 columns\n",
    "```\n",
    "<img src=\"https://i.imgur.com/pbLsgSa.png\">"
   ]
  },
  {
   "cell_type": "code",
   "execution_count": 6,
   "metadata": {},
   "outputs": [
    {
     "name": "stdout",
     "output_type": "stream",
     "text": [
      "(125813, 2)\n"
     ]
    },
    {
     "data": {
      "text/html": [
       "<div>\n",
       "<style scoped>\n",
       "    .dataframe tbody tr th:only-of-type {\n",
       "        vertical-align: middle;\n",
       "    }\n",
       "\n",
       "    .dataframe tbody tr th {\n",
       "        vertical-align: top;\n",
       "    }\n",
       "\n",
       "    .dataframe thead th {\n",
       "        text-align: right;\n",
       "    }\n",
       "</style>\n",
       "<table border=\"1\" class=\"dataframe\">\n",
       "  <thead>\n",
       "    <tr style=\"text-align: right;\">\n",
       "      <th></th>\n",
       "      <th>desc</th>\n",
       "      <th>target</th>\n",
       "    </tr>\n",
       "  </thead>\n",
       "  <tbody>\n",
       "    <tr>\n",
       "      <th>2</th>\n",
       "      <td>i currently have a loan out with cashcall the ...</td>\n",
       "      <td>0</td>\n",
       "    </tr>\n",
       "    <tr>\n",
       "      <th>3</th>\n",
       "      <td>consolidate debt</td>\n",
       "      <td>0</td>\n",
       "    </tr>\n",
       "    <tr>\n",
       "      <th>4</th>\n",
       "      <td>this loan will be used solely to consolidate c...</td>\n",
       "      <td>0</td>\n",
       "    </tr>\n",
       "    <tr>\n",
       "      <th>5</th>\n",
       "      <td>i have recently purchased and built a new home...</td>\n",
       "      <td>0</td>\n",
       "    </tr>\n",
       "    <tr>\n",
       "      <th>6</th>\n",
       "      <td>temporary cash flow challenges would like this...</td>\n",
       "      <td>0</td>\n",
       "    </tr>\n",
       "  </tbody>\n",
       "</table>\n",
       "</div>"
      ],
      "text/plain": [
       "                                                desc  target\n",
       "2  i currently have a loan out with cashcall the ...       0\n",
       "3                                   consolidate debt       0\n",
       "4  this loan will be used solely to consolidate c...       0\n",
       "5  i have recently purchased and built a new home...       0\n",
       "6  temporary cash flow challenges would like this...       0"
      ]
     },
     "execution_count": 6,
     "metadata": {},
     "output_type": "execute_result"
    }
   ],
   "source": [
    "import re\n",
    "def clean_desc(row):\n",
    "    row = re.sub('[^0-9a-zA-Z\\ ]', '', row) \n",
    "    row = row.lower()  # change to lower case\n",
    "    row = row.strip()  # remove spaces at the beginning and end\n",
    "\n",
    "    return row\n",
    "\n",
    "all_desc_df[\"desc\"] = all_desc_df[\"desc\"].apply(clean_desc)\n",
    "\n",
    "filter_data = all_desc_df[\"desc\"] != \"\"\n",
    "filter_data\n",
    "all_desc_df = all_desc_df[filter_data]\n",
    "\n",
    "print(all_desc_df.shape)\n",
    "all_desc_df.head()"
   ]
  },
  {
   "cell_type": "code",
   "execution_count": 7,
   "metadata": {},
   "outputs": [],
   "source": [
    "## TA/INSTRUCTOR ONLY\n",
    "## MARK AWARDED: /1"
   ]
  },
  {
   "cell_type": "markdown",
   "metadata": {},
   "source": [
    "### Q3. Tokenize and Stem Words\n",
    "\n",
    "For simplicity and lower processing time, you decided to use `PorterStemmer` to stem each word. As such, you would need to reduce each description to their root form. \n",
    "\n",
    "Steps: \n",
    "\n",
    "1. With the `nltk` library, use `word_tokenize` to tokenize each description to a list of words.\n",
    "2. Use the `PorterStemmer` to stem each word using a for-loop. \n",
    "3. Join up the stemmed words as a string.\n",
    "\n",
    "All steps above must be done <b>within the same function.</b> Your function should return a string.\n",
    "\n",
    "Using the `apply()` method, create a new column called `desc_stem` in `all_desc_df`. \n",
    "\n",
    "<b>Note: This part might take awhile to run (an average of 3 minutes).</b>\n",
    "\n",
    "<div class=\"alert alert-success\">\n",
    "<h3>Important: How to test and debug a smaller set first?</h3>\n",
    "\n",
    "* Subset `all_desc_df` to 10 rows in `test_df`\n",
    "* Test your code with the smaller set `test_df` first and observe the results in column `desc_stem`\n",
    "* <b>Only when all is well, then run your code with the large dataset `all_desc_df`</b>\n",
    "</div>\n",
    "\n",
    "**Expected Output:**\n",
    "\n",
    "<img src=\"https://i.imgur.com/XXDqd3i.png\">"
   ]
  },
  {
   "cell_type": "code",
   "execution_count": 8,
   "metadata": {},
   "outputs": [
    {
     "data": {
      "text/html": [
       "<div>\n",
       "<style scoped>\n",
       "    .dataframe tbody tr th:only-of-type {\n",
       "        vertical-align: middle;\n",
       "    }\n",
       "\n",
       "    .dataframe tbody tr th {\n",
       "        vertical-align: top;\n",
       "    }\n",
       "\n",
       "    .dataframe thead th {\n",
       "        text-align: right;\n",
       "    }\n",
       "</style>\n",
       "<table border=\"1\" class=\"dataframe\">\n",
       "  <thead>\n",
       "    <tr style=\"text-align: right;\">\n",
       "      <th></th>\n",
       "      <th>desc</th>\n",
       "      <th>target</th>\n",
       "      <th>desc_stem</th>\n",
       "    </tr>\n",
       "  </thead>\n",
       "  <tbody>\n",
       "    <tr>\n",
       "      <th>2</th>\n",
       "      <td>i currently have a loan out with cashcall the ...</td>\n",
       "      <td>0</td>\n",
       "      <td>i current have a loan out with cashcal the int...</td>\n",
       "    </tr>\n",
       "    <tr>\n",
       "      <th>3</th>\n",
       "      <td>consolidate debt</td>\n",
       "      <td>0</td>\n",
       "      <td>consolid debt</td>\n",
       "    </tr>\n",
       "    <tr>\n",
       "      <th>4</th>\n",
       "      <td>this loan will be used solely to consolidate c...</td>\n",
       "      <td>0</td>\n",
       "      <td>thi loan will be use sole to consolid credit c...</td>\n",
       "    </tr>\n",
       "    <tr>\n",
       "      <th>5</th>\n",
       "      <td>i have recently purchased and built a new home...</td>\n",
       "      <td>0</td>\n",
       "      <td>i have recent purchas and built a new home tha...</td>\n",
       "    </tr>\n",
       "    <tr>\n",
       "      <th>6</th>\n",
       "      <td>temporary cash flow challenges would like this...</td>\n",
       "      <td>0</td>\n",
       "      <td>temporari cash flow challeng would like thi lo...</td>\n",
       "    </tr>\n",
       "  </tbody>\n",
       "</table>\n",
       "</div>"
      ],
      "text/plain": [
       "                                                desc  target  \\\n",
       "2  i currently have a loan out with cashcall the ...       0   \n",
       "3                                   consolidate debt       0   \n",
       "4  this loan will be used solely to consolidate c...       0   \n",
       "5  i have recently purchased and built a new home...       0   \n",
       "6  temporary cash flow challenges would like this...       0   \n",
       "\n",
       "                                           desc_stem  \n",
       "2  i current have a loan out with cashcal the int...  \n",
       "3                                      consolid debt  \n",
       "4  thi loan will be use sole to consolid credit c...  \n",
       "5  i have recent purchas and built a new home tha...  \n",
       "6  temporari cash flow challeng would like thi lo...  "
      ]
     },
     "execution_count": 8,
     "metadata": {},
     "output_type": "execute_result"
    }
   ],
   "source": [
    "from nltk.tokenize import word_tokenize\n",
    "from nltk.stem import PorterStemmer\n",
    "\n",
    "stemmer = PorterStemmer()\n",
    "\n",
    "# test_df = all_desc_df[0:9]\n",
    "\n",
    "def stem_sentence(desc):\n",
    "    str1 = \" \"\n",
    "    stemmed = []\n",
    "    tokens = word_tokenize(desc)\n",
    "    for word in tokens:\n",
    "        stemmed.append(stemmer.stem(word))\n",
    "    return str1.join(stemmed)      \n",
    "\n",
    "all_desc_df['desc_stem'] = all_desc_df['desc'].apply(stem_sentence)\n",
    "all_desc_df.head()"
   ]
  },
  {
   "cell_type": "code",
   "execution_count": 9,
   "metadata": {},
   "outputs": [],
   "source": [
    "## TA/INSTRUCTOR ONLY\n",
    "## MARK AWARDED: /1"
   ]
  },
  {
   "cell_type": "markdown",
   "metadata": {},
   "source": [
    "### Q4. Stop Words Removal\n",
    "\n",
    "To keep only relevant words, you will remove all stopwords from each description by using the `stopwords` corpus to remove them. \n",
    "\n",
    "Steps: \n",
    "\n",
    "1. Create the list of stopwords in `english`\n",
    "2. Tokenize the each description\n",
    "3. Check for stopwords \n",
    "4. Join up non stopwords as a string\n",
    "\n",
    "All steps, except step 1, must be done <b>within the same function.</b> Your function should return a string.\n",
    "\n",
    "Using the `apply()` method, create a new column called `desc_no_stopwords` to the `all_desc_df`. \n",
    "\n",
    "<b>Note: This part might take awhile to run (an average of 2 minutes).</b>\n",
    "\n",
    "<div class=\"alert alert-success\">\n",
    "    <h4>Again, how to test and debug a smaller set first?</h4>\n",
    "\n",
    "* Subset `all_desc_df` to 10 rows in `test_df`\n",
    "* Test your code with the smaller set `test_df` first and observe the results\n",
    "* <b>Only when all is well, then run your code with the large dataset `all_desc_df`</b>\n",
    "</div>\n",
    "\n",
    "**Expected Output:**\n",
    "\n",
    "Notice that the cleaned descriptions without stop words is stored in `desc_cleaned`\n",
    "\n",
    "<img src=\"https://i.imgur.com/1fED4Uu.png\">"
   ]
  },
  {
   "cell_type": "code",
   "execution_count": 10,
   "metadata": {},
   "outputs": [
    {
     "data": {
      "text/html": [
       "<div>\n",
       "<style scoped>\n",
       "    .dataframe tbody tr th:only-of-type {\n",
       "        vertical-align: middle;\n",
       "    }\n",
       "\n",
       "    .dataframe tbody tr th {\n",
       "        vertical-align: top;\n",
       "    }\n",
       "\n",
       "    .dataframe thead th {\n",
       "        text-align: right;\n",
       "    }\n",
       "</style>\n",
       "<table border=\"1\" class=\"dataframe\">\n",
       "  <thead>\n",
       "    <tr style=\"text-align: right;\">\n",
       "      <th></th>\n",
       "      <th>desc</th>\n",
       "      <th>target</th>\n",
       "      <th>desc_stem</th>\n",
       "      <th>desc_cleaned</th>\n",
       "    </tr>\n",
       "  </thead>\n",
       "  <tbody>\n",
       "    <tr>\n",
       "      <th>2</th>\n",
       "      <td>i currently have a loan out with cashcall the ...</td>\n",
       "      <td>0</td>\n",
       "      <td>i current have a loan out with cashcal the int...</td>\n",
       "      <td>current loan cashcal interest rate 96 time too...</td>\n",
       "    </tr>\n",
       "    <tr>\n",
       "      <th>3</th>\n",
       "      <td>consolidate debt</td>\n",
       "      <td>0</td>\n",
       "      <td>consolid debt</td>\n",
       "      <td>consolid debt</td>\n",
       "    </tr>\n",
       "    <tr>\n",
       "      <th>4</th>\n",
       "      <td>this loan will be used solely to consolidate c...</td>\n",
       "      <td>0</td>\n",
       "      <td>thi loan will be use sole to consolid credit c...</td>\n",
       "      <td>thi loan use sole consolid credit card debt ac...</td>\n",
       "    </tr>\n",
       "    <tr>\n",
       "      <th>5</th>\n",
       "      <td>i have recently purchased and built a new home...</td>\n",
       "      <td>0</td>\n",
       "      <td>i have recent purchas and built a new home tha...</td>\n",
       "      <td>recent purchas built new home alway dream woul...</td>\n",
       "    </tr>\n",
       "    <tr>\n",
       "      <th>6</th>\n",
       "      <td>temporary cash flow challenges would like this...</td>\n",
       "      <td>0</td>\n",
       "      <td>temporari cash flow challeng would like thi lo...</td>\n",
       "      <td>temporari cash flow challeng would like thi lo...</td>\n",
       "    </tr>\n",
       "  </tbody>\n",
       "</table>\n",
       "</div>"
      ],
      "text/plain": [
       "                                                desc  target  \\\n",
       "2  i currently have a loan out with cashcall the ...       0   \n",
       "3                                   consolidate debt       0   \n",
       "4  this loan will be used solely to consolidate c...       0   \n",
       "5  i have recently purchased and built a new home...       0   \n",
       "6  temporary cash flow challenges would like this...       0   \n",
       "\n",
       "                                           desc_stem  \\\n",
       "2  i current have a loan out with cashcal the int...   \n",
       "3                                      consolid debt   \n",
       "4  thi loan will be use sole to consolid credit c...   \n",
       "5  i have recent purchas and built a new home tha...   \n",
       "6  temporari cash flow challeng would like thi lo...   \n",
       "\n",
       "                                        desc_cleaned  \n",
       "2  current loan cashcal interest rate 96 time too...  \n",
       "3                                      consolid debt  \n",
       "4  thi loan use sole consolid credit card debt ac...  \n",
       "5  recent purchas built new home alway dream woul...  \n",
       "6  temporari cash flow challeng would like thi lo...  "
      ]
     },
     "execution_count": 10,
     "metadata": {},
     "output_type": "execute_result"
    }
   ],
   "source": [
    "from nltk.corpus import stopwords\n",
    "\n",
    "# test_df = all_desc_df[0:9]\n",
    "STOP_WORDS = stopwords.words('english')\n",
    "\n",
    "def stop_words_removal(desc):\n",
    "    filterWords = []\n",
    "    tokens = word_tokenize(desc)\n",
    "    str1 = \" \"\n",
    "    for word in tokens:\n",
    "        if word not in STOP_WORDS:\n",
    "            filterWords.append(word)\n",
    "    return str1.join(filterWords)\n",
    "    \n",
    "all_desc_df['desc_cleaned'] = all_desc_df['desc_stem'].apply(stop_words_removal)\n",
    "all_desc_df.head()"
   ]
  },
  {
   "cell_type": "code",
   "execution_count": 11,
   "metadata": {},
   "outputs": [],
   "source": [
    "## TA/INSTRUCTOR ONLY\n",
    "## MARK AWARDED: /1"
   ]
  },
  {
   "cell_type": "markdown",
   "metadata": {},
   "source": [
    "### Q5. Train Test Split\n",
    "\n",
    "Remember why we need to do a train test split?\n",
    "\n",
    "<img src=\"https://i.imgur.com/qOLmXIt.png\" width=500/>\n",
    "\n",
    "Split your data up into training and testing sets using `train_test_split` from `sklearn.model_selection`.  Split into into 4 different variables, `x_train`, `x_test`, `y_train` and `y_test`, where: \n",
    "\n",
    "- <b>first</b> argument: create a new dataframe from the `desc_cleaned` column of `all_desc_df` <b>(`all_desc_df[['desc_cleaned']]`)</b>\n",
    "- <b>second</b> argument: should <b>only</b> be the `target` column of `all_desc_df`\n",
    "- `random_state` is 0\n",
    "- `test_size` is 0.2\n",
    "\n",
    "Check the shapes of x_train, x_test, y_train, y_test.\n",
    "\n",
    "\n",
    "**Expected Output:**\n",
    "\n",
    "```\n",
    "    x_train (100650, 1) x_test (25163, 1) y_train (100650,) y_test (25163,)\n",
    "```\n"
   ]
  },
  {
   "cell_type": "code",
   "execution_count": 54,
   "metadata": {},
   "outputs": [
    {
     "name": "stdout",
     "output_type": "stream",
     "text": [
      "(100650, 1) (25163, 1) (100650, 1) (25163, 1)\n"
     ]
    }
   ],
   "source": [
    "from sklearn.model_selection import train_test_split\n",
    "\n",
    "desc_clean_df = all_desc_df[['desc_cleaned']]\n",
    "target_df = all_desc_df[['target']]\n",
    "\n",
    "x_train, x_test, y_train, y_test = train_test_split(desc_clean_df, target_df, random_state=0, test_size=0.2)\n",
    "\n",
    "print(x_train.shape, x_test.shape, y_train.shape, y_test.shape)\n"
   ]
  },
  {
   "cell_type": "code",
   "execution_count": 13,
   "metadata": {},
   "outputs": [],
   "source": [
    "## TA/INSTRUCTOR ONLY\n",
    "## MARK AWARDED: /1"
   ]
  },
  {
   "cell_type": "markdown",
   "metadata": {},
   "source": [
    "### Q6. Vectorizer\n",
    "\n",
    "As you would be using the Naive Bayes Classifier for your model, you would need to transform your cleaned description into a document-term matrix of 1s and 0s (known as one-hot encoding). \n",
    "\n",
    "Use the `CountVectorizer` to `fit_transform()` your training-set's `desc_cleaned` column into a new document-term matrix, called `desc_matrix`.  Your training-set is in `x_train`.\n",
    "\n",
    "(Q) How many columns are there in your one-hot encoded matrix `desc_matrix`?  What does these columns represent?\n",
    "\n",
    "Expected Output:\n",
    "```\n",
    "    54993 columns\n",
    "```"
   ]
  },
  {
   "cell_type": "code",
   "execution_count": 61,
   "metadata": {},
   "outputs": [
    {
     "name": "stdout",
     "output_type": "stream",
     "text": [
      "54993 columns\n",
      "The columns represent the total number of unique words that data frame has\n"
     ]
    }
   ],
   "source": [
    "from sklearn.feature_extraction.text import CountVectorizer\n",
    "\n",
    "vectorizer = CountVectorizer()\n",
    "desc_matrix = vectorizer.fit_transform(x_train['desc_cleaned'])\n",
    "\n",
    "print((desc_matrix.shape[1]), \"columns\")\n",
    "print('The columns represent the total number of unique words that data frame has')"
   ]
  },
  {
   "cell_type": "code",
   "execution_count": 15,
   "metadata": {},
   "outputs": [],
   "source": [
    "## TA/INSTRUCTOR ONLY\n",
    "## MARK AWARDED: /1"
   ]
  },
  {
   "cell_type": "markdown",
   "metadata": {},
   "source": [
    "### Q7. Multinomial Naive Bayes Classifier \n",
    "\n",
    "Create a new `MultinomialNB` classifer and name it as `desc_classifier`.\n",
    "\n",
    "<a href=\"https://scikit-learn.org/stable/modules/generated/sklearn.naive_bayes.MultinomialNB.html#:~:text=The%20multinomial%20Naive%20Bayes%20classifier,tf%2Didf%20may%20also%20work\">Documentation here</a>.\n",
    "\n",
    "Then train the classifier using it's `.fit()` \n",
    "\n",
    "Use the vectorized document-term matrix, `desc_matrix`  as x and `y_train` as y."
   ]
  },
  {
   "cell_type": "code",
   "execution_count": 16,
   "metadata": {},
   "outputs": [],
   "source": [
    "from sklearn.naive_bayes import MultinomialNB\n",
    "\n",
    "# Train a multinomial classifier using the training set using the features and the training set labels\n",
    "desc_classifier = MultinomialNB().fit(desc_matrix, y_train)\n"
   ]
  },
  {
   "cell_type": "code",
   "execution_count": 17,
   "metadata": {},
   "outputs": [],
   "source": [
    "## TA/INSTRUCTOR ONLY\n",
    "## MARK AWARDED: /1"
   ]
  },
  {
   "cell_type": "markdown",
   "metadata": {},
   "source": [
    "### Q8. Confusion Matrix\n",
    "\n",
    "Congraluations on building your Naive Bayes model.  You would like to measure the model's performance using the TEST set.\n",
    "\n",
    "Follow these steps:\n",
    "\n",
    "1. Vectorize (transform) `desc_cleaned` column/variable in `x_test` and store in `x_matrix`\n",
    "2. Generate the prediction results using the vectorized test set `x_matrix` and store in `predicted_results`\n",
    "3. Create the confusion matrix using the predicted values and actual values in the TEST set and print it\n",
    "4. Visualize the confusion matrix\n",
    "\n",
    "**Expected Output:**\n",
    "\n",
    "```\n",
    "[[21033   261]\n",
    " [ 3760   109]]\n",
    "```\n",
    "<img src=\"https://i.imgur.com/ZGaiqnj.png\" width=400>"
   ]
  },
  {
   "cell_type": "code",
   "execution_count": 18,
   "metadata": {},
   "outputs": [
    {
     "name": "stdout",
     "output_type": "stream",
     "text": [
      "[[21033   261]\n",
      " [ 3760   109]]\n"
     ]
    },
    {
     "data": {
      "image/png": "[encoded data removed]",
      "text/plain": [
       "<Figure size 432x288 with 2 Axes>"
      ]
     },
     "metadata": {
      "needs_background": "light"
     },
     "output_type": "display_data"
    }
   ],
   "source": [
    "from sklearn.metrics import confusion_matrix\n",
    "from sklearn.metrics import plot_confusion_matrix\n",
    "import matplotlib.pyplot as plt\n",
    "import seaborn as sns\n",
    "\n",
    "x_matrix = vectorizer.transform(x_test['desc_cleaned'])\n",
    "predicted_results = desc_classifier.predict(x_matrix)\n",
    "\n",
    "cm_desc = confusion_matrix(y_test, predicted_results)\n",
    "\n",
    "title = \"Confusion Matrix - Naive Bayes Classification of Loan Description\"\n",
    "\n",
    "disp = plot_confusion_matrix(desc_classifier, x_matrix, y_test,\n",
    "                             cmap=plt.cm.Blues,\n",
    "                             normalize=None)\n",
    "disp.ax_.set_title(title)\n",
    "print(disp.confusion_matrix)\n",
    "\n",
    "plt.show()\n",
    "\n",
    "# actual is y-axis, predicted is x-axis"
   ]
  },
  {
   "cell_type": "code",
   "execution_count": 19,
   "metadata": {},
   "outputs": [],
   "source": [
    "## TA/INSTRUCTOR ONLY\n",
    "## MARK AWARDED: /1"
   ]
  },
  {
   "cell_type": "markdown",
   "metadata": {},
   "source": [
    "### Q9. How good is the performance of Naive Bayes Model?\n",
    "\n",
    "Is the model good at predicting Loan defaults?  \n",
    "\n",
    "What is the accuracy of predicting loan defaults (precision)?  \n",
    "\n",
    "What is the accuracy of predicting non-defaults?"
   ]
  },
  {
   "cell_type": "code",
   "execution_count": 20,
   "metadata": {},
   "outputs": [
    {
     "name": "stdout",
     "output_type": "stream",
     "text": [
      "Accuracy of non-default loans: 0.8402018837181576\n",
      "Precision of loan_defaults: 0.2945945945945946\n"
     ]
    }
   ],
   "source": [
    "from sklearn import metrics\n",
    "print(\"Accuracy of non-default loans:\", metrics.accuracy_score(y_test, predicted_results))\n",
    "print(\"Precision of loan_defaults:\", metrics.precision_score(y_test, predicted_results))\n",
    "# model is not very good at predicting loan defaults\n",
    "# 1 - loan defaults\n",
    "# 0 - non-defaults"
   ]
  },
  {
   "cell_type": "code",
   "execution_count": 21,
   "metadata": {},
   "outputs": [],
   "source": [
    "## TA/INSTRUCTOR ONLY\n",
    "## MARK AWARDED: /1"
   ]
  },
  {
   "cell_type": "markdown",
   "metadata": {},
   "source": [
    "## K-Means Clustering - 6 marks\n",
    "\n",
    "To discover more insights about the dataset, you decided to run the K-means clustering algorithm to discover the different clusters in the dataset. \n",
    "\n",
    "### Open Loans Data (Non-Description) File\n",
    "\n",
    "Open the `loans_transformed-200k.csv` as `all_loans_df`. "
   ]
  },
  {
   "cell_type": "code",
   "execution_count": 22,
   "metadata": {
    "scrolled": true
   },
   "outputs": [],
   "source": [
    "all_loans_df = pd.read_csv(\"loans_transformed-200k.csv\")"
   ]
  },
  {
   "cell_type": "markdown",
   "metadata": {},
   "source": [
    "### Q10. Integer Encoding\n",
    "\n",
    "Just as the above Integer Encoding question, create a new column called `target_int` where `Non Default` is `0` and `Default` is `1`. \n",
    "\n",
    "**Expected Output:**\n",
    "\n",
    "<img src=\"https://i.imgur.com/D0VcNAs.png\"/>"
   ]
  },
  {
   "cell_type": "code",
   "execution_count": 23,
   "metadata": {
    "scrolled": true
   },
   "outputs": [
    {
     "data": {
      "text/html": [
       "<div>\n",
       "<style scoped>\n",
       "    .dataframe tbody tr th:only-of-type {\n",
       "        vertical-align: middle;\n",
       "    }\n",
       "\n",
       "    .dataframe tbody tr th {\n",
       "        vertical-align: top;\n",
       "    }\n",
       "\n",
       "    .dataframe thead th {\n",
       "        text-align: right;\n",
       "    }\n",
       "</style>\n",
       "<table border=\"1\" class=\"dataframe\">\n",
       "  <thead>\n",
       "    <tr style=\"text-align: right;\">\n",
       "      <th></th>\n",
       "      <th>loan_amnt</th>\n",
       "      <th>term</th>\n",
       "      <th>int_rate</th>\n",
       "      <th>installment</th>\n",
       "      <th>grade</th>\n",
       "      <th>emp_length</th>\n",
       "      <th>home_ownership</th>\n",
       "      <th>annual_inc</th>\n",
       "      <th>verification_status</th>\n",
       "      <th>purpose</th>\n",
       "      <th>...</th>\n",
       "      <th>loan_status</th>\n",
       "      <th>term_int</th>\n",
       "      <th>emp_length_int</th>\n",
       "      <th>home_ownership_int</th>\n",
       "      <th>verification_status_int</th>\n",
       "      <th>purpose_int</th>\n",
       "      <th>income_tax</th>\n",
       "      <th>int_round</th>\n",
       "      <th>target</th>\n",
       "      <th>target_int</th>\n",
       "    </tr>\n",
       "  </thead>\n",
       "  <tbody>\n",
       "    <tr>\n",
       "      <th>0</th>\n",
       "      <td>14400</td>\n",
       "      <td>36 months</td>\n",
       "      <td>14.47</td>\n",
       "      <td>495.46</td>\n",
       "      <td>C</td>\n",
       "      <td>10+ years</td>\n",
       "      <td>MORTGAGE</td>\n",
       "      <td>109000.0</td>\n",
       "      <td>Source Verified</td>\n",
       "      <td>debt_consolidation</td>\n",
       "      <td>...</td>\n",
       "      <td>Current</td>\n",
       "      <td>0</td>\n",
       "      <td>10</td>\n",
       "      <td>0</td>\n",
       "      <td>1</td>\n",
       "      <td>1</td>\n",
       "      <td>8175.0</td>\n",
       "      <td>14</td>\n",
       "      <td>Non Default</td>\n",
       "      <td>0</td>\n",
       "    </tr>\n",
       "    <tr>\n",
       "      <th>1</th>\n",
       "      <td>8000</td>\n",
       "      <td>36 months</td>\n",
       "      <td>10.75</td>\n",
       "      <td>260.97</td>\n",
       "      <td>B</td>\n",
       "      <td>3 years</td>\n",
       "      <td>MORTGAGE</td>\n",
       "      <td>50000.0</td>\n",
       "      <td>Source Verified</td>\n",
       "      <td>credit_card</td>\n",
       "      <td>...</td>\n",
       "      <td>Current</td>\n",
       "      <td>0</td>\n",
       "      <td>3</td>\n",
       "      <td>0</td>\n",
       "      <td>1</td>\n",
       "      <td>3</td>\n",
       "      <td>0.0</td>\n",
       "      <td>10</td>\n",
       "      <td>Non Default</td>\n",
       "      <td>0</td>\n",
       "    </tr>\n",
       "    <tr>\n",
       "      <th>2</th>\n",
       "      <td>9500</td>\n",
       "      <td>36 months</td>\n",
       "      <td>18.45</td>\n",
       "      <td>345.60</td>\n",
       "      <td>D</td>\n",
       "      <td>3 years</td>\n",
       "      <td>MORTGAGE</td>\n",
       "      <td>138000.0</td>\n",
       "      <td>Source Verified</td>\n",
       "      <td>credit_card</td>\n",
       "      <td>...</td>\n",
       "      <td>Current</td>\n",
       "      <td>0</td>\n",
       "      <td>3</td>\n",
       "      <td>0</td>\n",
       "      <td>1</td>\n",
       "      <td>3</td>\n",
       "      <td>10350.0</td>\n",
       "      <td>18</td>\n",
       "      <td>Non Default</td>\n",
       "      <td>0</td>\n",
       "    </tr>\n",
       "    <tr>\n",
       "      <th>3</th>\n",
       "      <td>16000</td>\n",
       "      <td>60 months</td>\n",
       "      <td>18.99</td>\n",
       "      <td>414.97</td>\n",
       "      <td>D</td>\n",
       "      <td>&lt; 1 year</td>\n",
       "      <td>OWN</td>\n",
       "      <td>66000.0</td>\n",
       "      <td>Not Verified</td>\n",
       "      <td>debt_consolidation</td>\n",
       "      <td>...</td>\n",
       "      <td>Current</td>\n",
       "      <td>1</td>\n",
       "      <td>0</td>\n",
       "      <td>1</td>\n",
       "      <td>2</td>\n",
       "      <td>1</td>\n",
       "      <td>4950.0</td>\n",
       "      <td>18</td>\n",
       "      <td>Non Default</td>\n",
       "      <td>0</td>\n",
       "    </tr>\n",
       "    <tr>\n",
       "      <th>4</th>\n",
       "      <td>6800</td>\n",
       "      <td>36 months</td>\n",
       "      <td>13.99</td>\n",
       "      <td>232.38</td>\n",
       "      <td>C</td>\n",
       "      <td>10+ years</td>\n",
       "      <td>MORTGAGE</td>\n",
       "      <td>63000.0</td>\n",
       "      <td>Not Verified</td>\n",
       "      <td>debt_consolidation</td>\n",
       "      <td>...</td>\n",
       "      <td>Current</td>\n",
       "      <td>0</td>\n",
       "      <td>10</td>\n",
       "      <td>0</td>\n",
       "      <td>2</td>\n",
       "      <td>1</td>\n",
       "      <td>0.0</td>\n",
       "      <td>13</td>\n",
       "      <td>Non Default</td>\n",
       "      <td>0</td>\n",
       "    </tr>\n",
       "  </tbody>\n",
       "</table>\n",
       "<p>5 rows × 22 columns</p>\n",
       "</div>"
      ],
      "text/plain": [
       "   loan_amnt        term  int_rate  installment grade emp_length  \\\n",
       "0      14400   36 months     14.47       495.46     C  10+ years   \n",
       "1       8000   36 months     10.75       260.97     B    3 years   \n",
       "2       9500   36 months     18.45       345.60     D    3 years   \n",
       "3      16000   60 months     18.99       414.97     D   < 1 year   \n",
       "4       6800   36 months     13.99       232.38     C  10+ years   \n",
       "\n",
       "  home_ownership  annual_inc verification_status             purpose  ...  \\\n",
       "0       MORTGAGE    109000.0     Source Verified  debt_consolidation  ...   \n",
       "1       MORTGAGE     50000.0     Source Verified         credit_card  ...   \n",
       "2       MORTGAGE    138000.0     Source Verified         credit_card  ...   \n",
       "3            OWN     66000.0        Not Verified  debt_consolidation  ...   \n",
       "4       MORTGAGE     63000.0        Not Verified  debt_consolidation  ...   \n",
       "\n",
       "   loan_status  term_int emp_length_int  home_ownership_int  \\\n",
       "0      Current         0             10                   0   \n",
       "1      Current         0              3                   0   \n",
       "2      Current         0              3                   0   \n",
       "3      Current         1              0                   1   \n",
       "4      Current         0             10                   0   \n",
       "\n",
       "   verification_status_int  purpose_int  income_tax  int_round       target  \\\n",
       "0                        1            1      8175.0         14  Non Default   \n",
       "1                        1            3         0.0         10  Non Default   \n",
       "2                        1            3     10350.0         18  Non Default   \n",
       "3                        2            1      4950.0         18  Non Default   \n",
       "4                        2            1         0.0         13  Non Default   \n",
       "\n",
       "   target_int  \n",
       "0           0  \n",
       "1           0  \n",
       "2           0  \n",
       "3           0  \n",
       "4           0  \n",
       "\n",
       "[5 rows x 22 columns]"
      ]
     },
     "execution_count": 23,
     "metadata": {},
     "output_type": "execute_result"
    }
   ],
   "source": [
    "def transform_loan_status(target):\n",
    "    if \"Non Default\" in target:\n",
    "        return 0\n",
    "    else:\n",
    "        return 1\n",
    "\n",
    "all_loans_df['target_int'] = all_loans_df['target'].apply(transform_loan_status)\n",
    "\n",
    "all_loans_df.head() "
   ]
  },
  {
   "cell_type": "code",
   "execution_count": 24,
   "metadata": {},
   "outputs": [],
   "source": [
    "## TA/INSTRUCTOR ONLY\n",
    "## MARK AWARDED: /1"
   ]
  },
  {
   "cell_type": "markdown",
   "metadata": {},
   "source": [
    "### Q11. Reduce to Numerical Data\n",
    "\n",
    "For K-means algorithm to work properly, your dataframe should only contain numeric variables/columns (i.e. only numbers). \n",
    "\n",
    "Select only numeric variables/columns from your dataframe.\n",
    "\n",
    "You also decided to drop the `int_round` and `income_tax` columns as they are similar to the other columns in the dataset. \n",
    "\n",
    "Store this dataframe as `loans_numeric_df`. \n",
    "\n",
    "**Expected Output:**\n",
    "\n",
    "<img src=\"https://i.imgur.com/6nwgt0k.png\">"
   ]
  },
  {
   "cell_type": "code",
   "execution_count": 25,
   "metadata": {},
   "outputs": [
    {
     "data": {
      "text/html": [
       "<div>\n",
       "<style scoped>\n",
       "    .dataframe tbody tr th:only-of-type {\n",
       "        vertical-align: middle;\n",
       "    }\n",
       "\n",
       "    .dataframe tbody tr th {\n",
       "        vertical-align: top;\n",
       "    }\n",
       "\n",
       "    .dataframe thead th {\n",
       "        text-align: right;\n",
       "    }\n",
       "</style>\n",
       "<table border=\"1\" class=\"dataframe\">\n",
       "  <thead>\n",
       "    <tr style=\"text-align: right;\">\n",
       "      <th></th>\n",
       "      <th>loan_amnt</th>\n",
       "      <th>int_rate</th>\n",
       "      <th>installment</th>\n",
       "      <th>annual_inc</th>\n",
       "      <th>dti</th>\n",
       "      <th>delinq_2yrs</th>\n",
       "      <th>term_int</th>\n",
       "      <th>emp_length_int</th>\n",
       "      <th>home_ownership_int</th>\n",
       "      <th>verification_status_int</th>\n",
       "      <th>purpose_int</th>\n",
       "      <th>target_int</th>\n",
       "    </tr>\n",
       "  </thead>\n",
       "  <tbody>\n",
       "    <tr>\n",
       "      <th>0</th>\n",
       "      <td>14400</td>\n",
       "      <td>14.47</td>\n",
       "      <td>495.46</td>\n",
       "      <td>109000.0</td>\n",
       "      <td>8.52</td>\n",
       "      <td>1.0</td>\n",
       "      <td>0</td>\n",
       "      <td>10</td>\n",
       "      <td>0</td>\n",
       "      <td>1</td>\n",
       "      <td>1</td>\n",
       "      <td>0</td>\n",
       "    </tr>\n",
       "    <tr>\n",
       "      <th>1</th>\n",
       "      <td>8000</td>\n",
       "      <td>10.75</td>\n",
       "      <td>260.97</td>\n",
       "      <td>50000.0</td>\n",
       "      <td>17.31</td>\n",
       "      <td>0.0</td>\n",
       "      <td>0</td>\n",
       "      <td>3</td>\n",
       "      <td>0</td>\n",
       "      <td>1</td>\n",
       "      <td>3</td>\n",
       "      <td>0</td>\n",
       "    </tr>\n",
       "    <tr>\n",
       "      <th>2</th>\n",
       "      <td>9500</td>\n",
       "      <td>18.45</td>\n",
       "      <td>345.60</td>\n",
       "      <td>138000.0</td>\n",
       "      <td>23.91</td>\n",
       "      <td>0.0</td>\n",
       "      <td>0</td>\n",
       "      <td>3</td>\n",
       "      <td>0</td>\n",
       "      <td>1</td>\n",
       "      <td>3</td>\n",
       "      <td>0</td>\n",
       "    </tr>\n",
       "    <tr>\n",
       "      <th>3</th>\n",
       "      <td>16000</td>\n",
       "      <td>18.99</td>\n",
       "      <td>414.97</td>\n",
       "      <td>66000.0</td>\n",
       "      <td>33.65</td>\n",
       "      <td>0.0</td>\n",
       "      <td>1</td>\n",
       "      <td>0</td>\n",
       "      <td>1</td>\n",
       "      <td>2</td>\n",
       "      <td>1</td>\n",
       "      <td>0</td>\n",
       "    </tr>\n",
       "    <tr>\n",
       "      <th>4</th>\n",
       "      <td>6800</td>\n",
       "      <td>13.99</td>\n",
       "      <td>232.38</td>\n",
       "      <td>63000.0</td>\n",
       "      <td>19.68</td>\n",
       "      <td>0.0</td>\n",
       "      <td>0</td>\n",
       "      <td>10</td>\n",
       "      <td>0</td>\n",
       "      <td>2</td>\n",
       "      <td>1</td>\n",
       "      <td>0</td>\n",
       "    </tr>\n",
       "  </tbody>\n",
       "</table>\n",
       "</div>"
      ],
      "text/plain": [
       "   loan_amnt  int_rate  installment  annual_inc    dti  delinq_2yrs  term_int  \\\n",
       "0      14400     14.47       495.46    109000.0   8.52          1.0         0   \n",
       "1       8000     10.75       260.97     50000.0  17.31          0.0         0   \n",
       "2       9500     18.45       345.60    138000.0  23.91          0.0         0   \n",
       "3      16000     18.99       414.97     66000.0  33.65          0.0         1   \n",
       "4       6800     13.99       232.38     63000.0  19.68          0.0         0   \n",
       "\n",
       "   emp_length_int  home_ownership_int  verification_status_int  purpose_int  \\\n",
       "0              10                   0                        1            1   \n",
       "1               3                   0                        1            3   \n",
       "2               3                   0                        1            3   \n",
       "3               0                   1                        2            1   \n",
       "4              10                   0                        2            1   \n",
       "\n",
       "   target_int  \n",
       "0           0  \n",
       "1           0  \n",
       "2           0  \n",
       "3           0  \n",
       "4           0  "
      ]
     },
     "execution_count": 25,
     "metadata": {},
     "output_type": "execute_result"
    }
   ],
   "source": [
    "numerics = ['int16', 'int32', 'int64', 'float16', 'float32', 'float64']\n",
    "loans_numeric_df = all_loans_df.select_dtypes(include = numerics)\n",
    "loans_numeric_df.drop(['int_round', 'income_tax'], axis=1, inplace=True)\n",
    "loans_numeric_df.head()"
   ]
  },
  {
   "cell_type": "code",
   "execution_count": 26,
   "metadata": {},
   "outputs": [],
   "source": [
    "## TA/INSTRUCTOR ONLY\n",
    "## MARK AWARDED: /1"
   ]
  },
  {
   "cell_type": "markdown",
   "metadata": {},
   "source": [
    "### Q12. Select Optimal K - Elbow Plot\n",
    "\n",
    "Plot the elbow plot by doing multiple iterations of the k-means algorithm, between a value of <b>2 to 12 (inclusive)</b>. Select a K that you think is appropriate to carry on in the next step. \n",
    "\n",
    "<b>Note: This will take about 2 minutes to compute all possible K values</b>\n",
    "\n",
    "**Expected Output:**\n",
    "\n",
    "<img src=\"https://i.imgur.com/yVp1qJL.png\">"
   ]
  },
  {
   "cell_type": "code",
   "execution_count": 27,
   "metadata": {},
   "outputs": [
    {
     "data": {
      "text/plain": [
       "Text(0.5, 1.0, 'Elbow curve')"
      ]
     },
     "execution_count": 27,
     "metadata": {},
     "output_type": "execute_result"
    },
    {
     "data": {
      "image/png": "[encoded data removed]",
      "text/plain": [
       "<Figure size 1080x360 with 1 Axes>"
      ]
     },
     "metadata": {
      "needs_background": "light"
     },
     "output_type": "display_data"
    }
   ],
   "source": [
    "from sklearn.cluster import KMeans\n",
    "from matplotlib import pyplot as plt\n",
    "\n",
    "X = loans_numeric_df # <<< Numerical DataFrame here\n",
    "distorsions = []\n",
    "for k in range(2, 13):\n",
    "    kmeans = KMeans(n_clusters=k)\n",
    "    kmeans.fit(X)\n",
    "    distorsions.append(kmeans.inertia_)\n",
    "\n",
    "fig = plt.figure(figsize=(15, 5))\n",
    "plt.plot(range(2, 13), distorsions)\n",
    "plt.grid(True)\n",
    "plt.xlabel('k')\n",
    "plt.ylabel('WSS')\n",
    "plt.title('Elbow curve')"
   ]
  },
  {
   "cell_type": "code",
   "execution_count": 28,
   "metadata": {},
   "outputs": [],
   "source": [
    "## TA/INSTRUCTOR ONLY\n",
    "## PLOT MARK: 1/1"
   ]
  },
  {
   "cell_type": "markdown",
   "metadata": {},
   "source": [
    "### Q13. K-Means Clustering with Optimal K - 2 Marks\n",
    "\n",
    "Choose an <b>appropriate K</b> based on the chart above, then apply the k-means algorithm only once and store the model as `loans_kmeans`.\n",
    "\n",
    "Make sure `random_state` is 0."
   ]
  },
  {
   "cell_type": "code",
   "execution_count": 29,
   "metadata": {},
   "outputs": [
    {
     "name": "stdout",
     "output_type": "stream",
     "text": [
      "KMeans(random_state=0)\n"
     ]
    }
   ],
   "source": [
    "k = 8\n",
    "model = KMeans(n_clusters=k,  # < Initialise Number Of Clusters here\n",
    "               random_state=0)\n",
    "\n",
    "loans_kmeans = model.fit(loans_numeric_df) # < DataFrame of All Variables\n",
    "print(loans_kmeans)"
   ]
  },
  {
   "cell_type": "code",
   "execution_count": 30,
   "metadata": {},
   "outputs": [],
   "source": [
    "## TA/INSTRUCTOR ONLY\n",
    "## MARK AWARDED: /1"
   ]
  },
  {
   "cell_type": "markdown",
   "metadata": {},
   "source": [
    "### Q14. Set Labels\n",
    "\n",
    "All loans are now tagged with a particular cluster or label. \n",
    "\n",
    "Using the `.labels_` attribute, create and add a new column named `label` to the `all_loans_df` dataframe. \n",
    "\n",
    "**Expected Output:** (for k = 8) \n",
    "\n",
    "A part of the dataset with the label column will look like the following.  \n",
    "\n",
    "<div class=\"alert alert-success\">\n",
    "Don't worry if your label numbers are different from the expected output.  This is because of the difference in random sampling on each computer.\n",
    "</div>\n",
    "\n",
    "<img src=\"https://i.imgur.com/CXbcmaW.png\" width=400>"
   ]
  },
  {
   "cell_type": "code",
   "execution_count": 31,
   "metadata": {},
   "outputs": [
    {
     "data": {
      "text/html": [
       "<div>\n",
       "<style scoped>\n",
       "    .dataframe tbody tr th:only-of-type {\n",
       "        vertical-align: middle;\n",
       "    }\n",
       "\n",
       "    .dataframe tbody tr th {\n",
       "        vertical-align: top;\n",
       "    }\n",
       "\n",
       "    .dataframe thead th {\n",
       "        text-align: right;\n",
       "    }\n",
       "</style>\n",
       "<table border=\"1\" class=\"dataframe\">\n",
       "  <thead>\n",
       "    <tr style=\"text-align: right;\">\n",
       "      <th></th>\n",
       "      <th>loan_amnt</th>\n",
       "      <th>term</th>\n",
       "      <th>int_rate</th>\n",
       "      <th>installment</th>\n",
       "      <th>grade</th>\n",
       "      <th>emp_length</th>\n",
       "      <th>home_ownership</th>\n",
       "      <th>annual_inc</th>\n",
       "      <th>verification_status</th>\n",
       "      <th>purpose</th>\n",
       "      <th>...</th>\n",
       "      <th>term_int</th>\n",
       "      <th>emp_length_int</th>\n",
       "      <th>home_ownership_int</th>\n",
       "      <th>verification_status_int</th>\n",
       "      <th>purpose_int</th>\n",
       "      <th>income_tax</th>\n",
       "      <th>int_round</th>\n",
       "      <th>target</th>\n",
       "      <th>target_int</th>\n",
       "      <th>label</th>\n",
       "    </tr>\n",
       "  </thead>\n",
       "  <tbody>\n",
       "    <tr>\n",
       "      <th>0</th>\n",
       "      <td>14400</td>\n",
       "      <td>36 months</td>\n",
       "      <td>14.47</td>\n",
       "      <td>495.46</td>\n",
       "      <td>C</td>\n",
       "      <td>10+ years</td>\n",
       "      <td>MORTGAGE</td>\n",
       "      <td>109000.0</td>\n",
       "      <td>Source Verified</td>\n",
       "      <td>debt_consolidation</td>\n",
       "      <td>...</td>\n",
       "      <td>0</td>\n",
       "      <td>10</td>\n",
       "      <td>0</td>\n",
       "      <td>1</td>\n",
       "      <td>1</td>\n",
       "      <td>8175.0</td>\n",
       "      <td>14</td>\n",
       "      <td>Non Default</td>\n",
       "      <td>0</td>\n",
       "      <td>6</td>\n",
       "    </tr>\n",
       "    <tr>\n",
       "      <th>1</th>\n",
       "      <td>8000</td>\n",
       "      <td>36 months</td>\n",
       "      <td>10.75</td>\n",
       "      <td>260.97</td>\n",
       "      <td>B</td>\n",
       "      <td>3 years</td>\n",
       "      <td>MORTGAGE</td>\n",
       "      <td>50000.0</td>\n",
       "      <td>Source Verified</td>\n",
       "      <td>credit_card</td>\n",
       "      <td>...</td>\n",
       "      <td>0</td>\n",
       "      <td>3</td>\n",
       "      <td>0</td>\n",
       "      <td>1</td>\n",
       "      <td>3</td>\n",
       "      <td>0.0</td>\n",
       "      <td>10</td>\n",
       "      <td>Non Default</td>\n",
       "      <td>0</td>\n",
       "      <td>3</td>\n",
       "    </tr>\n",
       "    <tr>\n",
       "      <th>2</th>\n",
       "      <td>9500</td>\n",
       "      <td>36 months</td>\n",
       "      <td>18.45</td>\n",
       "      <td>345.60</td>\n",
       "      <td>D</td>\n",
       "      <td>3 years</td>\n",
       "      <td>MORTGAGE</td>\n",
       "      <td>138000.0</td>\n",
       "      <td>Source Verified</td>\n",
       "      <td>credit_card</td>\n",
       "      <td>...</td>\n",
       "      <td>0</td>\n",
       "      <td>3</td>\n",
       "      <td>0</td>\n",
       "      <td>1</td>\n",
       "      <td>3</td>\n",
       "      <td>10350.0</td>\n",
       "      <td>18</td>\n",
       "      <td>Non Default</td>\n",
       "      <td>0</td>\n",
       "      <td>6</td>\n",
       "    </tr>\n",
       "    <tr>\n",
       "      <th>3</th>\n",
       "      <td>16000</td>\n",
       "      <td>60 months</td>\n",
       "      <td>18.99</td>\n",
       "      <td>414.97</td>\n",
       "      <td>D</td>\n",
       "      <td>&lt; 1 year</td>\n",
       "      <td>OWN</td>\n",
       "      <td>66000.0</td>\n",
       "      <td>Not Verified</td>\n",
       "      <td>debt_consolidation</td>\n",
       "      <td>...</td>\n",
       "      <td>1</td>\n",
       "      <td>0</td>\n",
       "      <td>1</td>\n",
       "      <td>2</td>\n",
       "      <td>1</td>\n",
       "      <td>4950.0</td>\n",
       "      <td>18</td>\n",
       "      <td>Non Default</td>\n",
       "      <td>0</td>\n",
       "      <td>0</td>\n",
       "    </tr>\n",
       "    <tr>\n",
       "      <th>4</th>\n",
       "      <td>6800</td>\n",
       "      <td>36 months</td>\n",
       "      <td>13.99</td>\n",
       "      <td>232.38</td>\n",
       "      <td>C</td>\n",
       "      <td>10+ years</td>\n",
       "      <td>MORTGAGE</td>\n",
       "      <td>63000.0</td>\n",
       "      <td>Not Verified</td>\n",
       "      <td>debt_consolidation</td>\n",
       "      <td>...</td>\n",
       "      <td>0</td>\n",
       "      <td>10</td>\n",
       "      <td>0</td>\n",
       "      <td>2</td>\n",
       "      <td>1</td>\n",
       "      <td>0.0</td>\n",
       "      <td>13</td>\n",
       "      <td>Non Default</td>\n",
       "      <td>0</td>\n",
       "      <td>0</td>\n",
       "    </tr>\n",
       "  </tbody>\n",
       "</table>\n",
       "<p>5 rows × 23 columns</p>\n",
       "</div>"
      ],
      "text/plain": [
       "   loan_amnt        term  int_rate  installment grade emp_length  \\\n",
       "0      14400   36 months     14.47       495.46     C  10+ years   \n",
       "1       8000   36 months     10.75       260.97     B    3 years   \n",
       "2       9500   36 months     18.45       345.60     D    3 years   \n",
       "3      16000   60 months     18.99       414.97     D   < 1 year   \n",
       "4       6800   36 months     13.99       232.38     C  10+ years   \n",
       "\n",
       "  home_ownership  annual_inc verification_status             purpose  ...  \\\n",
       "0       MORTGAGE    109000.0     Source Verified  debt_consolidation  ...   \n",
       "1       MORTGAGE     50000.0     Source Verified         credit_card  ...   \n",
       "2       MORTGAGE    138000.0     Source Verified         credit_card  ...   \n",
       "3            OWN     66000.0        Not Verified  debt_consolidation  ...   \n",
       "4       MORTGAGE     63000.0        Not Verified  debt_consolidation  ...   \n",
       "\n",
       "   term_int  emp_length_int home_ownership_int  verification_status_int  \\\n",
       "0         0              10                  0                        1   \n",
       "1         0               3                  0                        1   \n",
       "2         0               3                  0                        1   \n",
       "3         1               0                  1                        2   \n",
       "4         0              10                  0                        2   \n",
       "\n",
       "   purpose_int  income_tax  int_round       target  target_int  label  \n",
       "0            1      8175.0         14  Non Default           0      6  \n",
       "1            3         0.0         10  Non Default           0      3  \n",
       "2            3     10350.0         18  Non Default           0      6  \n",
       "3            1      4950.0         18  Non Default           0      0  \n",
       "4            1         0.0         13  Non Default           0      0  \n",
       "\n",
       "[5 rows x 23 columns]"
      ]
     },
     "execution_count": 31,
     "metadata": {},
     "output_type": "execute_result"
    }
   ],
   "source": [
    "all_loans_df['label'] = loans_kmeans.labels_\n",
    "all_loans_df.head()"
   ]
  },
  {
   "cell_type": "code",
   "execution_count": 32,
   "metadata": {},
   "outputs": [],
   "source": [
    "## TA/INSTRUCTOR ONLY\n",
    "## MARK AWARDED: /1"
   ]
  },
  {
   "cell_type": "markdown",
   "metadata": {},
   "source": [
    "### Q15. Clustering Analysis\n",
    "\n",
    "Now that you've labelled each loans, you want know the <b>proportion of default loans</b> within each cluster.  \n",
    "\n",
    "<div class=\"alert alert-success\">\n",
    "Your answer may be different from the expected output due to the randomness of K means. It is fine as long as you calculate the values in the correct way.\n",
    "</div>\n",
    "\n",
    "**Expected Output:** (for k = 8) \n",
    "\n",
    "```\n",
    "label  target     \n",
    "0      Default        0.112868\n",
    "       Non Default    0.887132\n",
    "1      Default        0.090909\n",
    "       Non Default    0.909091\n",
    "2      Default        0.078322\n",
    "       Non Default    0.921678\n",
    "3      Default        0.133080\n",
    "       Non Default    0.866920\n",
    "4      Default        0.062500\n",
    "       Non Default    0.937500\n",
    "5      Non Default    1.000000\n",
    "6      Default        0.090710\n",
    "       Non Default    0.909290\n",
    "7      Default        0.055154\n",
    "       Non Default    0.944846\n",
    "dtype: float64\n",
    "```\n"
   ]
  },
  {
   "cell_type": "code",
   "execution_count": 33,
   "metadata": {},
   "outputs": [
    {
     "name": "stdout",
     "output_type": "stream",
     "text": [
      "label  target     \n",
      "0      Default        0.112865\n",
      "       Non Default    0.887135\n",
      "1      Default        0.090909\n",
      "       Non Default    0.909091\n",
      "2      Default        0.078344\n",
      "       Non Default    0.921656\n",
      "3      Default        0.132990\n",
      "       Non Default    0.867010\n",
      "4      Default        0.062500\n",
      "       Non Default    0.937500\n",
      "5      Non Default    1.000000\n",
      "6      Default        0.090766\n",
      "       Non Default    0.909234\n",
      "7      Default        0.055154\n",
      "       Non Default    0.944846\n",
      "dtype: float64\n"
     ]
    }
   ],
   "source": [
    "default_loans_proportion = all_loans_df.groupby([\"label\",\"target\"]).size() / all_loans_df.groupby('label').size()\n",
    "print(default_loans_proportion)"
   ]
  },
  {
   "cell_type": "code",
   "execution_count": 34,
   "metadata": {},
   "outputs": [],
   "source": [
    "## TA/INSTRUCTOR ONLY\n",
    "## MARK AWARDED: /1"
   ]
  },
  {
   "cell_type": "markdown",
   "metadata": {},
   "source": [
    "## Decision Tree Classifier - 3 marks\n",
    "\n",
    "### Q16. Train Test Split\n",
    "\n",
    "Similar to what you did using the Naive Bayes Classifier, split `loans_numeric_df` using `train_test_split()` into 4 different variables, `x_train`, `x_test`, `y_train` and `y_test`: \n",
    "\n",
    "- <b>first</b> argument should be a dataframe containing <b>all columns except</b> the `target_int` column\n",
    "- <b>second</b> argument should <b>only</b> be the `target_int` column\n",
    "- `random_state` is 0\n",
    "- `test_size` is 0.2"
   ]
  },
  {
   "cell_type": "code",
   "execution_count": 35,
   "metadata": {},
   "outputs": [],
   "source": [
    "from sklearn.model_selection import train_test_split\n",
    "\n",
    "all_cols = list(loans_numeric_df.columns)\n",
    "\n",
    "x_train, x_test, y_train, y_test = train_test_split(loans_numeric_df[all_cols[:-1]], loans_numeric_df['target_int'], random_state=0, test_size=0.2)\n",
    "\n",
    "# print(x_train.shape, x_test.shape, y_train.shape, y_test.shape)"
   ]
  },
  {
   "cell_type": "code",
   "execution_count": 36,
   "metadata": {},
   "outputs": [],
   "source": [
    "## TA/INSTRUCTOR ONLY\n",
    "## MARK AWARDED: /1"
   ]
  },
  {
   "cell_type": "markdown",
   "metadata": {},
   "source": [
    "### Q17. Train the DecisionTree\n",
    "\n",
    "Create a new Decision Tree named `loans_clf` using scikit-learn's `DecisionTreeClassifier`\n",
    "\n",
    "Train it with the training set using `.fit()` \n",
    "\n",
    "Training set is in `x_train` and `y_train` variables. \n",
    "\n",
    "\n",
    "<b>Note: `random_state` should be `0`.</b>"
   ]
  },
  {
   "cell_type": "code",
   "execution_count": null,
   "metadata": {},
   "outputs": [],
   "source": [
    "from sklearn.tree import DecisionTreeClassifier\n",
    "\n",
    "loans_clf = DecisionTreeClassifier(criterion='entropy')\n",
    "\n",
    "loans_clf.fit(x_train, y_train)"
   ]
  },
  {
   "cell_type": "code",
   "execution_count": 38,
   "metadata": {},
   "outputs": [],
   "source": [
    "## TA/INSTRUCTOR ONLY\n",
    "## MARK AWARDED: /1"
   ]
  },
  {
   "cell_type": "markdown",
   "metadata": {},
   "source": [
    "### Q18. Confusion Matrix\n",
    "\n",
    "Print the confusion matrix\n",
    "\n",
    "Visualize the confusion matrix\n",
    "\n",
    "Plot the confusion matrix for the decision tree classifier by:\n",
    "\n",
    "1. Using `.predict` on the `x_test` to get the test results\n",
    "2. Use `sns.heatmap` to create confusion matrix\n",
    "3. Set `.ylim()` to (2,0)\n",
    "4. Set `.xlim()` to (0,2)\n",
    "\n",
    "**Expected Output:**\n",
    "\n",
    "```\n",
    "[[31050  4293]\n",
    " [ 3727   930]\n",
    "```\n",
    "<img src=\"https://i.imgur.com/UTSrTST.png\" width=400>"
   ]
  },
  {
   "cell_type": "code",
   "execution_count": null,
   "metadata": {},
   "outputs": [],
   "source": [
    "from sklearn.metrics import confusion_matrix\n",
    "from sklearn.metrics import plot_confusion_matrix\n",
    "import matplotlib.pyplot as plt\n",
    "import seaborn as sns\n",
    "\n",
    "predicted_results = loans_clf.predict(x_test)\n",
    "cm_loans = confusion_matrix(y_test, predicted_results)\n",
    "print(cm_loans)\n",
    "ax = sns.heatmap(cm_loans, cmap=plt.cm.Blues, annot=cm_desc, fmt='d')\n",
    "\n",
    "ax.set_title('Confusion Matrix - Decision Tree Classification of Loan Description')\n",
    "ax.set_ylabel('True label')\n",
    "ax.set_xlabel('Predicted label')\n",
    "plt.ylim((2,0))\n",
    "plt.xlim((0,2))\n",
    "\n",
    "plt.show()"
   ]
  },
  {
   "cell_type": "code",
   "execution_count": 40,
   "metadata": {},
   "outputs": [],
   "source": [
    "## TA/INSTRUCTOR ONLY\n",
    "## MARK AWARDED: /1"
   ]
  },
  {
   "cell_type": "markdown",
   "metadata": {},
   "source": [
    "## Performance Measures - 2 marks\n",
    "\n",
    "### Q19. Accuracy & Precision\n",
    "\n",
    "Based on the above confusion matrices, calculate, <b>with workings</b>, the <b>Accuracy and Precision</b> for the:\n",
    "\n",
    "1. Naive Bayes Classifier\n",
    "2. Decision Tree Classifier"
   ]
  },
  {
   "cell_type": "code",
   "execution_count": 41,
   "metadata": {},
   "outputs": [
    {
     "name": "stdout",
     "output_type": "stream",
     "text": [
      "Naive Bayes Classifier Acccuracy: 0.8402018837181576\n",
      "Naive Bayes Classifier Precision: 0.2945945945945946\n",
      "Decision Classifier Acccuracy: 0.803275\n",
      "Decision Classifier Precision: 0.18583724569640062\n"
     ]
    }
   ],
   "source": [
    "# Naive Bayes Classifier\n",
    "NB_TN = cm_desc[0,0]\n",
    "NB_FN = cm_desc[1,0]\n",
    "NB_TP = cm_desc[1,1]\n",
    "NB_FP = cm_desc[0,1]\n",
    "\n",
    "NB_Accuracy = (NB_TP + NB_TN) / (NB_TN + NB_FN + NB_TP + NB_FP)\n",
    "NB_Precision = (NB_TP) / (NB_TP + NB_FP)\n",
    "\n",
    "print(\"Naive Bayes Classifier Acccuracy:\", NB_Accuracy)\n",
    "print(\"Naive Bayes Classifier Precision:\", NB_Precision)\n",
    "\n",
    "# # Decision Tree Classifier\n",
    "DT_TN = cm_loans[0,0]\n",
    "DT_FN = cm_loans[1,0]\n",
    "DT_TP = cm_loans[1,1]\n",
    "DT_FP = cm_loans[0,1]\n",
    "\n",
    "DT_Accuracy = (DT_TP + DT_TN) / (DT_TN + DT_FN + DT_TP + DT_FP)\n",
    "DT_Precision = (DT_TP) / (DT_TP + DT_FP)\n",
    "\n",
    "print(\"Decision Classifier Acccuracy:\", DT_Accuracy)\n",
    "print(\"Decision Classifier Precision:\", DT_Precision)"
   ]
  },
  {
   "cell_type": "code",
   "execution_count": 42,
   "metadata": {},
   "outputs": [],
   "source": [
    "## TA/INSTRUCTOR ONLY\n",
    "## MARK AWARDED: /1"
   ]
  },
  {
   "cell_type": "markdown",
   "metadata": {},
   "source": [
    "### Q20. Model Assessment\n",
    "\n",
    "After assessing the accuracy and precision scores, do you think that the models above are reliable in predicting whether loans will be defaulted? Explain your answer.  "
   ]
  },
  {
   "cell_type": "code",
   "execution_count": 43,
   "metadata": {},
   "outputs": [],
   "source": [
    "# Naive Bayes is more reliable in predicting whether loans will be defaulted because the model has higher accuracy and precision."
   ]
  },
  {
   "cell_type": "code",
   "execution_count": 44,
   "metadata": {},
   "outputs": [],
   "source": [
    "## TA/INSTRUCTOR ONLY\n",
    "## MARK AWARDED: /1"
   ]
  },
  {
   "cell_type": "markdown",
   "metadata": {},
   "source": [
    "<div class=\"alert alert-success\">\n",
    "<b>Checkpoint</b>: When you have completed, upload your progress to eLearn. eLearn only accepts the latest notebooks so if you have an existing notebook, your latest upload will <b>override</b> it.\n",
    "</div>"
   ]
  }
 ],
 "metadata": {
  "kernelspec": {
   "display_name": "Python 3",
   "language": "python",
   "name": "python3"
  },
  "language_info": {
   "codemirror_mode": {
    "name": "ipython",
    "version": 3
   },
   "file_extension": ".py",
   "mimetype": "text/x-python",
   "name": "python",
   "nbconvert_exporter": "python",
   "pygments_lexer": "ipython3",
   "version": "3.8.3"
  }
 },
 "nbformat": 4,
 "nbformat_minor": 4
}
