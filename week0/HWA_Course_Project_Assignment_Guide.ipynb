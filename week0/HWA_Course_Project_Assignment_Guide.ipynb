{
 "cells": [
  {
   "cell_type": "markdown",
   "metadata": {},
   "source": [
    "\n",
    "\n",
    "<center><img src=\"https://i2.wp.com/hackwagon.com/wp-content/uploads/2017/02/Logo-Web-Export.png?ssl=1\" width=200/></center>\n",
    "<h1> Hackwagon Academy DS102 Course Project Assignment Guide</h1>\n"
   ]
  },
  {
   "cell_type": "markdown",
   "metadata": {},
   "source": [
    "## Overview\n",
    "\n",
    "The **DS102 Course Project Assignment** is an opportunity to apply your Exploratory Data Analysis (EDA) and Machine Learning (ML) skills to **real-world** data. \n",
    "\n",
    "You can take a look at some  projects that students have completed in the past :  [**Past Projects**](https://elearn.hackwagon.com/projects/).   For example, a group of students recently did one on [Diamond Analysis](https://elearn.hackwagon.com/projects/dzK5TxwjQQuoc6G5n)\n",
    "\n"
   ]
  },
  {
   "cell_type": "markdown",
   "metadata": {},
   "source": [
    "## Task\n",
    "\n",
    "Find a source of data from **either Option 1 or Option 2**.\n",
    "\n",
    "After picking your option, downloading and cleaning your dataset, perform EDA and ML on your selected dataset and **submit a report written in Jupyter Notebook**, documenting your thinking process, research techniques and conclusions.\n",
    "\n",
    "### Option 1\n",
    "\n",
    "In this assignment, we will be doing research using data from **Government Open Data Portals**. These are websites owned by governments hosting a wide array of datasets in domains like Healthcare, Finance, Infrastructure. \n",
    "\n",
    "News coverage for these portals are wide too. Forbes shared the [Most Popular Datasets On USA Open Data Portal](https://www.forbes.com/sites/metabrown/2018/01/27/january-2018-data-bestsellers-most-popular-free-datasets-on-usa-open-data-portal/#2962f5ae7c8b). In Singapore, IMDA started [releasing more datasets to the public on government data sharing platforms](https://www.imda.gov.sg/infocomm-and-media-news/whats-trending/2013/7/singapore-makes-strides-in-open-data) since 2011.  In response, [Mothership.SG](https://mothership.sg/2017/10/data-gov-sg-so-here-is-eternal-debate-instead-of-he-says-versus-she-says-lets-look-at-what-data-says/) wrote about what could be found in our portal in 2017.\n",
    "\n",
    "Pick a research topic you are interested in or passionate about. From the following **5 Government Data Portals**, select **1 dataset** or a group of **2 OR 3 related** datasets that are related to your research topic: \n",
    "\n",
    "- [Singapore](https://data.gov.sg/)\n",
    "- [United States of America (USA)](https://www.data.gov/)\n",
    "- [Australia](https://data.gov.au/)\n",
    "- [European Union (EU)](https://data.europa.eu/)\n",
    "- [Gapminder](https://www.gapminder.org/data/)\n",
    "\n",
    "### Option 2\n",
    "\n",
    "Choose **1 appropriate** dataset or a group of **2 or 3 related** datasets that you're passionate about from:\n",
    "\n",
    "- [UCI Machine Learning Datasets](https://archive.ics.uci.edu/ml/index.php)\n",
    "\n",
    "The University of California, Irvine (UCI) Machine Learning Repository contains many datasets categorized by domain areas as well Machine Learning tasks.  It is widely used by educators as well the machine learning community.  You can read about it's history [here](https://archive.ics.uci.edu/ml/about.html). \n",
    "\n"
   ]
  },
  {
   "cell_type": "markdown",
   "metadata": {},
   "source": [
    "#### Suggested Format of Report\n",
    "\n",
    "- Title, Authors\n",
    "- Introduction to Research Topic\n",
    "- Problem Statement & Hypothesis\n",
    "- Selected Dataset & Data Preparation\n",
    "- Methodology used (Univariate Numerical Analysis, Univariate Categorical Analysis, Multivariate Analysis, Data Visualisation, Machine Learning)\n",
    "- Insights or Evaluation\n",
    "\n",
    "## Guidelines and Grading\n",
    "### Ground Rules & Suggestions\n",
    "- You may have **4 to 5 group members per team** \n",
    "- The team leader will submit a report on behalf for the team\n",
    "- <font color=\"red\">**Late Submissions are not allowed**</font>\n",
    "\n",
    "### Writing Guidelines\n",
    "- Please write short, simple paragraphs to detail your exploration. Be concise.\n",
    "- Follow the suggested format of the report so they can be marked by sections.\n",
    "\n",
    "### Grading\n",
    "\n",
    "The following are some guiding questions for each section of the report. The maximum attainable score for the Course Assignment is **10 marks**.\n",
    "\n",
    "**<u>I. Problem Statement / Research Topic (2 Marks)</u>**\n",
    "\n",
    "- What research topic are you going to address? Why are you interested to research on this topic in this region/country? Why is this topic interesting to you or why are you passionate to research on this topic?\n",
    "\n",
    "**<u>II. Dataset and Data Preperation (2 Marks)</u>**\n",
    "- Please provide the <u>name and URL of the data portal</u> and the <u>name and URL of the source dataset(s)</u> that you intend to research on. Also, where necessary, explain what datasets have you tried and why did you reject them in favour of your selected dataset? \n",
    "- Please also provide the structure of the original dataset. What is the range of values (years, categories etc.) covered? How is it provided to you (CSV, Excel etc.)? In a short paragraph, what is this dataset about?\n",
    "\n",
    "**<u>III. Methodology (3 Marks)</u>**\n",
    "- What steps did you use to clean the data / transpose the data so that it appears in a usable form for analysis? Did you fill in empty datapoints, or merge datasets, or aggregate them? \n",
    "- What EDA techniques did you use? Why did you select these techniques? Did the results surprise you?\n",
    "- What data visualisation techniques did you use, where necessary? If you used data visualisation techniques, explain the graph and ensure you label them sufficiently (title, axes, legend etc.)\n",
    "- Where necessary, did you use a machine learning technique? If yes, what did you use and what did you intend to find out? What was the result of the machine learning technique?\n",
    "\n",
    "**<u>IV. Insights / Evluation (3 marks)</u>**\n",
    "- After performing EDA, what insights did you gain from the analysis? What did you learn from the analysis? \n",
    "- What are the possible future research efforts after showing your peers this report? What other future research would you like to do, knowing the results now?\n",
    "\n",
    "<div class=\"alert alert-success\">Selected projects with exceptional quality will receive **0.5 or 1 mark** added to the **final average**.</div>"
   ]
  },
  {
   "cell_type": "markdown",
   "metadata": {},
   "source": [
    "## Timeline & Milestones\n",
    "\n",
    "#### <u>Project Overview</u> (Week 2)\n",
    "The project is distributed to all students. Students are encouraged to explore each of the Data Portals for a dataset of their interest. Also, the example reports are released for reference.\n",
    "\n",
    "Students are able to ask in the Telegram chat about what datasets work and what datasets are not allowed. A good dataset should have sufficient complexity (not just 4 datapoints) for analysis.\n",
    "\n",
    "#### <u>Project Proposal Submission</u> (Week 5)\n",
    "<p><font color=\"red\">Submission Deadline: 3 days before Week 5 Class @ 2359 hours</font></p>\n",
    "\n",
    "Submit your proposal as a **single Jupyter notebook** into the HWA Learning System dropbox. Name it `<team_number>-<your_name>-ds102-assignment` e.g. `team1-john-doe-ds102-assignment`. If you are working as a team, add **all names** to the file of the assignment e.g. `team1-john-doe-jane-doe-ds102-assignment.` \n",
    "\n",
    "The teaching team (instructor & TAs) will read your proposal, which includes your research topic and dataset to use. At this point, you would have addressed parts **(I)** and **(II)**. \n",
    "\n",
    "**No grading will be done for this submission.**\n",
    "\n",
    "#### <u>Final Submission</u> (Week 7)\n",
    "<p><font color=\"red\">Submission Deadline: 3 days before Week 7 Class @ 2359 hours</font></p>\n",
    "\n",
    "Submit your final report as a **single Jupyter notebook**. Name it `<your_team>-<your_name>-ds102-assignment` e.g. `team1-john-doe-ds102-assignment`. If you are working as a team, add **all names** to the file of the assignment e.g. `team1-john-doe-jane-doe-ds102-assignment`. Keep **all your Python code and writing** inside the Jupyter notebook. Ensure that the notebook is **already run** and **all derived / intermediate results intended to be displayed** are shown.\n",
    "\n",
    "You are **not required** to submit the raw datasets unless the teaching team requests for them.\n",
    "\n",
    "When all submissions have been marked, we will release the submissions so that you can view each other's work and continue sharing ideas. If you do not wish for your submission to be shared with your classmates, do indicate in **bold** at the top of your notebook.\n",
    "\n",
    "Reports of exceptional quality will be shared in class in Week 7. Individuals / teams are invited to spend 5 - 10 minutes each to share your findings with the class.\n",
    "\n",
    "<center><h3>*---  Good Luck! Keep on Hacking ---*</h3></center>"
   ]
  }
 ],
 "metadata": {
  "kernelspec": {
   "display_name": "Python 3",
   "language": "python",
   "name": "python3"
  },
  "language_info": {
   "codemirror_mode": {
    "name": "ipython",
    "version": 3
   },
   "file_extension": ".py",
   "mimetype": "text/x-python",
   "name": "python",
   "nbconvert_exporter": "python",
   "pygments_lexer": "ipython3",
   "version": "3.7.6"
  }
 },
 "nbformat": 4,
 "nbformat_minor": 4
}
