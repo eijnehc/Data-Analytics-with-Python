{
 "cells": [
  {
   "cell_type": "markdown",
   "metadata": {},
   "source": [
    "<center><img src=\"https://i2.wp.com/hackwagon.com/wp-content/uploads/2017/02/Logo-Web-Export.png?ssl=1\" width=200/></center>\n",
    "<h1> Hackwagon Academy DS102 Lesson 1A </h1>\n",
    "<h2> Simple Introduction to NumPy</h2> \n",
    "<h3> Lesson Outline </h3>\n",
    "\n",
    "- 1. [What is NumPy](#1)\n",
    "- 2. [NumPy Array](#2)\n",
    "    - 2.1 [Creation](#2.1)\n",
    "    - 2.2 [Manipulation](#2.2)\n",
    "        - 2.2.1 [Change Datatype](#2.2.1)\n",
    "        - 2.2.2 [Addition/Subtraction](#2.2.2)\n",
    "        - 2.2.3 [Multiplication/Division](#2.2.3)\n",
    "        - 2.2.4 [Boolean Comparison](#2.2.4)\n",
    "- 3. [Operations](#3)\n",
    "    - 3.1 [Mathematical & Statistical](#3.1)\n",
    "    - 3.2 [Uniqueness](#3.2)"
   ]
  },
  {
   "cell_type": "code",
   "execution_count": 2,
   "metadata": {},
   "outputs": [
    {
     "name": "stdout",
     "output_type": "stream",
     "text": [
      "Requirement already satisfied: numpy in /Library/Frameworks/Python.framework/Versions/3.8/lib/python3.8/site-packages (1.18.5)\r\n"
     ]
    }
   ],
   "source": [
    "!pip install numpy "
   ]
  },
  {
   "cell_type": "markdown",
   "metadata": {},
   "source": [
    "<hr/>\n",
    "\n",
    "<a id='1'><h2><img src=\"https://images.vexels.com/media/users/3/153978/isolated/preview/483ef8b10a46e28d02293a31570c8c56-warning-sign-colored-stroke-icon-by-vexels.png\" width=23 align=\"left\"><font color=\"salmon\">&nbsp;1.</font><font color=\"salmon\"> What is NumPy </font> </h2></a>"
   ]
  },
  {
   "cell_type": "markdown",
   "metadata": {},
   "source": [
    "NumPy (short for <i>Numerical Python</i>) provides an efficient interface to store and operate dense data. In some ways, NumPy arrays are <b>similar to Python's built in <code>list</code> types</b> but provide much more efficent data storage and data operations! It is because of this versatility, that makes NumPy widely used when to dealing scenarios that require extensive numerical computation, such as Pandas.\n",
    "\n",
    "Pandas interfaces some of NumPy's core functions and therefore a simple understanding of NumPy will help you a long way in mastering pandas!"
   ]
  },
  {
   "cell_type": "markdown",
   "metadata": {},
   "source": [
    "<a id='2'><h2><img src=\"https://images.vexels.com/media/users/3/153978/isolated/preview/483ef8b10a46e28d02293a31570c8c56-warning-sign-colored-stroke-icon-by-vexels.png\" width=23 align=\"left\"><font color=\"salmon\">&nbsp;2.</font><font color=\"salmon\"> NumPy Array</font> </h2></a>"
   ]
  },
  {
   "cell_type": "code",
   "execution_count": 3,
   "metadata": {},
   "outputs": [],
   "source": [
    "import numpy as np"
   ]
  },
  {
   "cell_type": "markdown",
   "metadata": {},
   "source": [
    "<a id='2.1'><h3>2.1 Creation</h3></a>\n",
    "\n",
    "You can create new arrays by using `.array()`. You can create an array by using a `list` or a `list` of `list`. "
   ]
  },
  {
   "cell_type": "code",
   "execution_count": 11,
   "metadata": {},
   "outputs": [
    {
     "name": "stdout",
     "output_type": "stream",
     "text": [
      "<class 'numpy.ndarray'>\n",
      "[[2, 4], [12, 14], [22, 24]]\n",
      "[[ 2  4]\n",
      " [12 14]\n",
      " [22 24]]\n",
      "(3, 2)\n"
     ]
    }
   ],
   "source": [
    "# Creating arrays with lists\n",
    "list1 = [1, 3, 4, 7, 11] # 1 x 5\n",
    "\n",
    "array1 = np.array(list1)\n",
    "print(type(array1))\n",
    "\n",
    "\n",
    "list2 = [[2, 4], [12, 14], [22, 24]] # 3 x 2\n",
    "array2 = np.array(list2)\n",
    "print(list2)\n",
    "print(array2)\n",
    "\n",
    "print(array2.shape)"
   ]
  },
  {
   "cell_type": "markdown",
   "metadata": {},
   "source": [
    "<a id='2.2'><h3>2.2 Manipulation</h3></a>\n",
    "\n",
    "With numpy, comes with the ability to do powerful data manipulation such as the examples below. "
   ]
  },
  {
   "cell_type": "markdown",
   "metadata": {},
   "source": [
    "<a id='2.2.1'><h3>2.2.1 Change Datatype</h3></a>\n",
    "\n",
    "We can change the entire array of values to just 1 data type, by using `.astype()`."
   ]
  },
  {
   "cell_type": "code",
   "execution_count": 12,
   "metadata": {},
   "outputs": [
    {
     "data": {
      "text/plain": [
       "array([84, 60, 62, 51, 33])"
      ]
     },
     "execution_count": 12,
     "metadata": {},
     "output_type": "execute_result"
    }
   ],
   "source": [
    "arr1 = np.array([84.837472, 60.99506, 62.602593, 51.28479, 33.769077])\n",
    "\n",
    "\n",
    "arr1.astype(int)"
   ]
  },
  {
   "cell_type": "markdown",
   "metadata": {},
   "source": [
    "<a id='2.2.2'><h3>2.2.2 Addition/Subtraction</h3></a>\n",
    "\n",
    "Given two arrays of the <b>same dimensions</b>, we can add/substract values respectively. "
   ]
  },
  {
   "cell_type": "code",
   "execution_count": 13,
   "metadata": {},
   "outputs": [
    {
     "data": {
      "text/plain": [
       "array([[ 3, 11],\n",
       "       [23,  9]])"
      ]
     },
     "execution_count": 13,
     "metadata": {},
     "output_type": "execute_result"
    }
   ],
   "source": [
    "arr_x = np.array([[1, 3], \n",
    "                  [7, 5]])\n",
    "arr_y = np.array([[2, 8], \n",
    "                  [16, 4]])\n",
    "\n",
    "arr_result = arr_x + arr_y\n",
    "arr_result\n"
   ]
  },
  {
   "cell_type": "markdown",
   "metadata": {},
   "source": [
    "We can also add/substract the entire array by whatever value we give it"
   ]
  },
  {
   "cell_type": "code",
   "execution_count": 15,
   "metadata": {},
   "outputs": [
    {
     "data": {
      "text/plain": [
       "array([[11, 13],\n",
       "       [17, 15]])"
      ]
     },
     "execution_count": 15,
     "metadata": {},
     "output_type": "execute_result"
    }
   ],
   "source": [
    "arr_x = np.array([[1, 3], \n",
    "                  [7, 5]])\n",
    "\n",
    "arr_result = arr_x + 10\n",
    "arr_result"
   ]
  },
  {
   "cell_type": "markdown",
   "metadata": {},
   "source": [
    "<a id='2.2.3'><h3>2.2.3 Multiplication/Divison</h3></a>\n",
    "\n",
    "Similar to the examples above, we could multiple/divide the arrays respectively."
   ]
  },
  {
   "cell_type": "code",
   "execution_count": 33,
   "metadata": {},
   "outputs": [
    {
     "data": {
      "text/plain": [
       "array([[  2,  24],\n",
       "       [112,  20]])"
      ]
     },
     "execution_count": 33,
     "metadata": {},
     "output_type": "execute_result"
    }
   ],
   "source": [
    "arr_x = np.array([[1, 3], \n",
    "                  [7, 5]])\n",
    "arr_y = np.array([[2, 8], \n",
    "                  [16, 4]])\n",
    "\n",
    "arr_result = arr_x * arr_y\n",
    "# arr_result = arr_x / arr_y\n",
    "arr_result"
   ]
  },
  {
   "cell_type": "markdown",
   "metadata": {},
   "source": [
    "<a id='2.2.4'><h3>2.2.4 Boolean Comparison</h3></a>\n",
    "\n",
    "Another powerful feature of NumPy is <b>Boolean Comparison</b>. You can do a conditional check on every value of the array without the need for a for loop. "
   ]
  },
  {
   "cell_type": "code",
   "execution_count": 23,
   "metadata": {},
   "outputs": [
    {
     "data": {
      "text/plain": [
       "array([[False, False],\n",
       "       [False,  True]])"
      ]
     },
     "execution_count": 23,
     "metadata": {},
     "output_type": "execute_result"
    }
   ],
   "source": [
    "arr_x = np.array([[1, 3], \n",
    "                  [7, 5]])\n",
    "arr_y = np.array([[2, 8], \n",
    "                  [16, 4]])\n",
    "\n",
    "arr_result = arr_x > arr_y\n",
    "arr_result"
   ]
  },
  {
   "cell_type": "markdown",
   "metadata": {},
   "source": [
    "<a id='3'><h2><img src=\"https://images.vexels.com/media/users/3/153978/isolated/preview/483ef8b10a46e28d02293a31570c8c56-warning-sign-colored-stroke-icon-by-vexels.png\" width=23 align=\"left\"><font color=\"salmon\">&nbsp;3.</font><font color=\"salmon\"> Operations</font> </h2></a>"
   ]
  },
  {
   "cell_type": "markdown",
   "metadata": {},
   "source": [
    "<a id='3.1'><h3>3.1 Mathematical & Statistical</h3></a>\n",
    "\n",
    "NumPy also has the ability to do statistical functions such as `.sum()` or `.mean()`\n"
   ]
  },
  {
   "cell_type": "code",
   "execution_count": 26,
   "metadata": {},
   "outputs": [
    {
     "data": {
      "text/plain": [
       "0.4330127018922193"
      ]
     },
     "execution_count": 26,
     "metadata": {},
     "output_type": "execute_result"
    }
   ],
   "source": [
    "s = np.array([3, 2, 2, 2])\n",
    "\n",
    "np.mean(s)\n",
    "np.std(s)"
   ]
  },
  {
   "cell_type": "markdown",
   "metadata": {},
   "source": [
    "With a 2-D array, we can also get the sum columns or row wise."
   ]
  },
  {
   "cell_type": "code",
   "execution_count": 30,
   "metadata": {},
   "outputs": [
    {
     "name": "stdout",
     "output_type": "stream",
     "text": [
      "column-wise sum [ 6  9 10  8]\n",
      "row-wise sum [ 9 12 12]\n"
     ]
    }
   ],
   "source": [
    "s = np.array([[3, 2, 2, 2],\n",
    "              [1, 5, 5, 1],\n",
    "              [2, 2, 3, 5]])\n",
    "\n",
    "# np.sum(arr, 0) and np.sum(arr, 1) gets the sum of all columns, and rows respectively\n",
    "\n",
    "print(\"column-wise sum\", np.sum(s,0))\n",
    "print(\"row-wise sum\", np.sum(s,1))\n"
   ]
  },
  {
   "cell_type": "markdown",
   "metadata": {},
   "source": [
    "<a id='3.2'><h3>3.2 Uniqueness</h3></a>\n",
    "\n",
    "We can also look for unique values within an array with `.unique()`"
   ]
  },
  {
   "cell_type": "code",
   "execution_count": 31,
   "metadata": {},
   "outputs": [
    {
     "data": {
      "text/plain": [
       "array([10000, 20000, 30000])"
      ]
     },
     "execution_count": 31,
     "metadata": {},
     "output_type": "execute_result"
    }
   ],
   "source": [
    "# altitudes = np.random.randint(1, 4, (1,6))*1000\n",
    "altitudes = np.array([20000, 30000, 10000, 20000, 30000, 10000])\n",
    "\n",
    "np.unique(altitudes)\n"
   ]
  }
 ],
 "metadata": {
  "kernelspec": {
   "display_name": "Python 3",
   "language": "python",
   "name": "python3"
  },
  "language_info": {
   "codemirror_mode": {
    "name": "ipython",
    "version": 3
   },
   "file_extension": ".py",
   "mimetype": "text/x-python",
   "name": "python",
   "nbconvert_exporter": "python",
   "pygments_lexer": "ipython3",
   "version": "3.8.3"
  }
 },
 "nbformat": 4,
 "nbformat_minor": 2
}
