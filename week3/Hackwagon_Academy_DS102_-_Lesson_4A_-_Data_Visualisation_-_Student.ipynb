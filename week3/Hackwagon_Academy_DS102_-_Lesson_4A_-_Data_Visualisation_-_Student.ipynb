{
 "cells": [
  {
   "cell_type": "markdown",
   "metadata": {},
   "source": [
    "<center><img src=\"https://i2.wp.com/hackwagon.com/wp-content/uploads/2017/02/Logo-Web-Export.png?ssl=1\" width=200/></center>\n",
    "<h1> Hackwagon Academy DS102 Lesson 4A </h1>\n",
    "<h2> Data Visualisation</h2> \n",
    "<h3> Lesson Outline </h3>\n",
    "\n",
    "- 1. [Matplotlib & Pandas](#1)\n",
    "    - 1.1 [Introduction](#1.1)\n",
    "    - 1.2 [Plotting](#1.2)\n",
    "    - 1.3 [Designing Your Plots](#1.3)\n",
    "        - 1.3.1 [Title, Labels, Ticks, Colors](#1.3.1)\n",
    "        - 1.3.2 [Markers, Alphas, Sizes](#1.3.2)\n",
    "    - 1.4 [Subplots](#1.4)\n",
    "    - 1.5 [Saving Figure](#1.5)\n",
    "    - [Practice I](#P1)\n",
    "    - [Practice II](#P2)"
   ]
  },
  {
   "cell_type": "markdown",
   "metadata": {},
   "source": [
    "### Import Libraries"
   ]
  },
  {
   "cell_type": "code",
   "execution_count": null,
   "metadata": {},
   "outputs": [],
   "source": [
    "import pandas as pd\n",
    "import random\n",
    "import numpy as np\n",
    "import seaborn as sns\n",
    "import matplotlib.pyplot as plt\n",
    "# Display all floats rounded off to 1 decimal place\n",
    "pd.options.display.float_format = '{:,.1f}'.format\n",
    "# Plot static image in Jupyter notebook\n",
    "%matplotlib inline\n",
    "# Settings throughout the notebook\n",
    "sns.set()"
   ]
  },
  {
   "cell_type": "markdown",
   "metadata": {},
   "source": [
    "<hr/>\n",
    "\n",
    "<a id='1'><h2><img src=\"https://images.vexels.com/media/users/3/153978/isolated/preview/483ef8b10a46e28d02293a31570c8c56-warning-sign-colored-stroke-icon-by-vexels.png\" width=23 align=\"left\"><font color=\"salmon\">&nbsp;1.</font><font color=\"salmon\"> Matplotlib </font> </h2></a>"
   ]
  },
  {
   "cell_type": "markdown",
   "metadata": {},
   "source": [
    "<a id='1.1'><h3>1.1 Introduction</h3></a>\n",
    "\n",
    "Matplotlib is one of the first and many visualisation libraries like Seaborn use the similar syntax. \n",
    "\n",
    "Pros:\n",
    "1. Provides a standard for other visualisation libraries\n",
    "2. Leveraged by many other libraries\n",
    "\n",
    "Cons:\n",
    "1. Documentation that is difficult to understand\n",
    "2. Restrictive syntax\n",
    "\n",
    "<img src=\"https://i.imgur.com/uYYgeZ3.png\" width=\"300\">"
   ]
  },
  {
   "cell_type": "markdown",
   "metadata": {},
   "source": [
    "<a id='1.2'><h3>1.2 Plotting</h3></a>\n",
    "\n",
    "Creating visualisations is <b>very simple</b>, just tell yourself that you need 2 <b>lists</b> of data of the same <b>length</b> and put them into the library's function and <b><i>it just works!</i></b>"
   ]
  },
  {
   "cell_type": "code",
   "execution_count": null,
   "metadata": {},
   "outputs": [],
   "source": [
    "def create_random_numbers():\n",
    "    results = []\n",
    "    for i in range(10):\n",
    "        results.append(random.randrange(1,101,1))\n",
    "    return results"
   ]
  },
  {
   "cell_type": "code",
   "execution_count": null,
   "metadata": {},
   "outputs": [],
   "source": [
    "x = create_random_numbers()\n",
    "y = create_random_numbers()\n"
   ]
  },
  {
   "cell_type": "markdown",
   "metadata": {},
   "source": [
    "### Using matplotlib\n",
    "\n",
    "Plotting using matplotlib with basic Python lists is as follows. "
   ]
  },
  {
   "cell_type": "code",
   "execution_count": null,
   "metadata": {},
   "outputs": [],
   "source": []
  },
  {
   "cell_type": "markdown",
   "metadata": {},
   "source": [
    "### As A DataFrame\n"
   ]
  },
  {
   "cell_type": "code",
   "execution_count": null,
   "metadata": {},
   "outputs": [],
   "source": [
    "data = {\n",
    "    'x_values': x,\n",
    "    'y_values': y\n",
    "}\n",
    "random_df = pd.DataFrame(data)\n",
    "random_df"
   ]
  },
  {
   "cell_type": "markdown",
   "metadata": {},
   "source": [
    "### Plotting with Pandas \n",
    "\n",
    "Using pandas, many of matplotlib's functions are stored within the `.plot()` function. Switch between the different kinds of plots, just change the `kind=` parameter to suit your needs. \n",
    "\n",
    "<b>To fully understand the pandas plotting settings, read the documentation here: https://pandas.pydata.org/pandas-docs/stable/reference/api/pandas.DataFrame.plot.html</b>\n",
    "\n",
    "<img src=\"https://i.imgur.com/oxpzNPz.png\" width=400>"
   ]
  },
  {
   "cell_type": "code",
   "execution_count": null,
   "metadata": {},
   "outputs": [],
   "source": [
    "random_df.plot(kind=,\n",
    "               x=,\n",
    "               y=)"
   ]
  },
  {
   "cell_type": "markdown",
   "metadata": {},
   "source": [
    "<a id='1.3'><h3>1.3 Designing Your Plots</h3></a>\n",
    "\n",
    "A good graph should contain the following features so it can easy to read and interpret:\n",
    "\n",
    "- Title\n",
    "- Legend\n",
    "- Axes Labels for both the horizontal or $x$-axis and the vertical or $y$-axis\n",
    "- Reasonable tick values\n",
    "\n",
    "### Anatomy of a Plot\n",
    "\n",
    "<img src=\"https://i.imgur.com/AKpvE3C.png\" width=400>"
   ]
  },
  {
   "cell_type": "markdown",
   "metadata": {},
   "source": [
    "<a id='1.3.1'><h3>1.3.1 Title, Labels, Ticks, Colors</h3></a>\n",
    "\n",
    "- Title - `plt.title()`\n",
    "- X and Y Axis Labels - `plt.xlabel()` & `plt.ylabel()`\n",
    "- Ticks - `plt.xticks()` & `plt.xticks()`\n",
    "- Color - `color=`"
   ]
  },
  {
   "cell_type": "code",
   "execution_count": null,
   "metadata": {},
   "outputs": [],
   "source": [
    "random_df.plot(kind='line',\n",
    "               x='x_values',\n",
    "               y='y_values',\n",
    "              color=)\n"
   ]
  },
  {
   "cell_type": "markdown",
   "metadata": {},
   "source": [
    "<a id='1.3.2'><h3>1.3.2 Markers, Alphas, Sizes</h3></a>\n",
    "\n",
    "When designing scatterplots, sometimes you want certain points to be more distinct than the others.\n",
    "\n",
    "- Markers - Design of each point: `marker=`\n",
    "- Alphas - Transparency of each point: `alpha=` (between 1 to 0, 1 being darkest, 0 being transparent)\n",
    "- Size - Size of each point: `s=`"
   ]
  },
  {
   "cell_type": "code",
   "execution_count": null,
   "metadata": {},
   "outputs": [],
   "source": [
    "random_df.plot(kind='scatter',\n",
    "               x='x_values',\n",
    "               y='y_values',\n",
    "              marker=,\n",
    "              s=,\n",
    "              alpha=,\n",
    "              color=)"
   ]
  },
  {
   "cell_type": "markdown",
   "metadata": {},
   "source": [
    "<a id='1.4'><h3>1.4 Subplots</h3></a>\n",
    "\n",
    "To plot mulitple plots within a single figure, we need to understand the columns, rows and index that identify them. \n",
    "\n",
    "<img src=\"https://i.imgur.com/JrukTTS.png\" width=\"300\">\n",
    "\n",
    "<h3>Saving Figures</h3>\n",
    "\n",
    "To save figures, use `.savefig()` with the name of the file inside the (). The filename should end with either a `.png` or `.jpg`"
   ]
  },
  {
   "cell_type": "code",
   "execution_count": null,
   "metadata": {},
   "outputs": [],
   "source": [
    "\n",
    "plt.savefig('testing.png')"
   ]
  },
  {
   "cell_type": "markdown",
   "metadata": {},
   "source": [
    "<a id='P1'><h2> <img src=\"https://cdn.shopify.com/s/files/1/1200/7374/products/book_aec28e76-52ec-44ab-bc01-41df1279c89f_550x825.png?v=1473897430\" width=25 align=\"left\"> <font color=\"darkorange\"> &nbsp; Practice I </font><font color=\"skyblue\"> * </font></h2></a>\n",
    "\n",
    "### South Korean Tourist Departures\n",
    "\n",
    "#### Read Dataset\n",
    "\n",
    "Read the `kor-tourist-departures.csv` dataset and save it as `kto_depart_df`. Preview the dataset to understand the nature of the dataset."
   ]
  },
  {
   "cell_type": "code",
   "execution_count": null,
   "metadata": {},
   "outputs": [],
   "source": []
  },
  {
   "cell_type": "markdown",
   "metadata": {},
   "source": [
    "#### Prepare Data\n",
    "\n",
    "Create a new column called `visitor_departures_m` after using `.apply` to change visitor departures from ones to millions (i.e divide by 1000000) "
   ]
  },
  {
   "cell_type": "code",
   "execution_count": null,
   "metadata": {},
   "outputs": [],
   "source": []
  },
  {
   "cell_type": "markdown",
   "metadata": {},
   "source": [
    "#### Visualise\n",
    "\n",
    "Using what you've learnt so far, visualise the dataset and get a similar design and label as the following line chart.\n",
    "\n",
    "#### Export and Save Visualisation\n",
    "\n",
    "Using `plt.savefig()`, save the figure with the following name, `South Korean Tourist Departures.jpg`. "
   ]
  },
  {
   "cell_type": "code",
   "execution_count": null,
   "metadata": {},
   "outputs": [],
   "source": []
  },
  {
   "cell_type": "markdown",
   "metadata": {},
   "source": [
    "<center><h3> End of Practice I </h3></center>"
   ]
  },
  {
   "cell_type": "markdown",
   "metadata": {},
   "source": [
    "<a id='P2'><h2> <img src=\"https://cdn.shopify.com/s/files/1/1200/7374/products/book_aec28e76-52ec-44ab-bc01-41df1279c89f_550x825.png?v=1473897430\" width=25 align=\"left\"> <font color=\"darkorange\"> &nbsp; Practice II </font><font color=\"skyblue\"> * </font></h2></a>\n",
    "\n",
    "### Term Loans Visualisation\n",
    "\n",
    "Using everything you've learnt above, prepare the following visualisation based on the `loans-25k.csv` dataset.\n",
    "\n",
    "#### Read Dataset\n",
    "\n",
    "Read the `loans-25k.csv` dataset and save it as `loans_df`. Preview the dataset to understand the nature of the dataset."
   ]
  },
  {
   "cell_type": "code",
   "execution_count": null,
   "metadata": {},
   "outputs": [],
   "source": []
  },
  {
   "cell_type": "markdown",
   "metadata": {},
   "source": [
    "#### Isolate and Group\n",
    "\n",
    "Isolate the data to just the `term`, `grade` columns and store them as a separate DataFrame. After that, group them up by their `grade`, then `term` (using a list). Store the grouped data as `term_grade_group`."
   ]
  },
  {
   "cell_type": "code",
   "execution_count": null,
   "metadata": {},
   "outputs": [],
   "source": []
  },
  {
   "cell_type": "markdown",
   "metadata": {},
   "source": [
    "#### Size of Each Grade and Term\n",
    "\n",
    "Using the group, get the size of each object and <b>reset its index</b> so that it's now a flattened dataframe of the following output: \n",
    "\n",
    "<img src=\"https://i.imgur.com/fOvft3H.png\" width=200>\n",
    "\n",
    "After which, rename the columns to `Grade`, `Term`, `No. of Loans` respectively, by changing the `.columns` attribute."
   ]
  },
  {
   "cell_type": "code",
   "execution_count": null,
   "metadata": {},
   "outputs": [],
   "source": []
  },
  {
   "cell_type": "markdown",
   "metadata": {},
   "source": [
    "#### Pivot Table (Coded For You)\n",
    "\n",
    "Using `pd.pivot_table`, change the structure of the DataFrame such that the index = `Grade`, columns = `Term`, values = `No. of Loans` and it is aggregated by the `np.sum` function. <b>Reset the pivoted_table's index</b> and change the columns to the following name `Grade`, `36 Months`, `60 Months`. \n",
    "\n",
    "Expected Final DataFrame: \n",
    "\n",
    "<img src=\"https://i.imgur.com/sFIaS5a.png\" width=200>"
   ]
  },
  {
   "cell_type": "code",
   "execution_count": null,
   "metadata": {},
   "outputs": [],
   "source": [
    "term_grade_loans_pivot = pd.pivot_table(flatten_df, index=['Grade'], columns=['Term'],\n",
    "                                       values='No. of Loans', aggfunc=np.sum)\n",
    "term_grade_loans_pivot.reset_index(inplace=True)\n",
    "term_grade_loans_pivot.columns = ['Grade', '36 Months', '60 Months']\n",
    "term_grade_loans_pivot"
   ]
  },
  {
   "cell_type": "markdown",
   "metadata": {},
   "source": [
    "#### Visualise \n",
    "\n",
    "Using the prepared DataFrame above, prepare the following visualisation, matching a similar design and labels shown: \n",
    "\n",
    "<i>For the 3rd chart, use the <code>stacked</code> argument and set a Boolean value</i>\n",
    "\n",
    "#### Export and Save Visualisation\n",
    "\n",
    "Using `plt.savefig()`, save the figure with the following name, `No. of Loans by Grade and Terms.jpg`. \n",
    "\n",
    "<img src=\"https://i.imgur.com/HpST8Lc.png\" width=800>"
   ]
  },
  {
   "cell_type": "code",
   "execution_count": null,
   "metadata": {},
   "outputs": [],
   "source": []
  },
  {
   "cell_type": "markdown",
   "metadata": {},
   "source": [
    "<center><h3> End of Practice II </h3></center>"
   ]
  },
  {
   "cell_type": "markdown",
   "metadata": {},
   "source": [
    "**Libraries**\n",
    "- [matplotlib](https://matplotlib.org/gallery/index.html)\n",
    "- [seaborn](https://seaborn.pydata.org/examples/index.html)\n",
    "\n",
    "**Credits**\n",
    "- [Korea Tourism Organisation](https://kto.visitkorea.or.kr/eng/tourismStatics/keyFacts/visitorArrivals.kto) for Dataset 1 & 7\n",
    "- [Singstat](https://www.singstat.gov.sg/find-data/search-by-theme/population/births-and-fertility/latest-data) for Dataset 2\n",
    "- [data.gov.sg](https://data.gov.sg/dataset/hospital-admissions) for Dataset 3\n",
    "- [Kaggle](https://www.kaggle.com/monkeasy/exploring-gender-equality-in-us-wages/data) for Dataset 4\n",
    "- [Yahoo Finance GOOG](https://finance.yahoo.com/quote/GOOG) and [Yahoo Finance AAPL](https://finance.yahoo.com/quote/AAPL) for Dataset 5 & 6\n",
    "\n",
    "\n",
    "\n",
    "**Liability Disclaimer**\n",
    "<p style=\"font-size:10px\">Notwithstanding any other provision of other agreements between Hackwagon and its trainees, in no event shall any party be liable to another party for any loss of anticipated profits or other consequential, special or indirect loss or damage of any nature arising at any time, whether arising under contract, tort (including negligence), strict liability or for any other cause whatsoever. The trainee understands and agrees that algorithms taught for financial markets are volatile and unpredictable in nature and that no warranty, either express or implied, is made by the company with respect thereto. By continuing with the lesson, the trainee agrees implicitly with the statements prior.</p>"
   ]
  },
  {
   "cell_type": "code",
   "execution_count": null,
   "metadata": {},
   "outputs": [],
   "source": []
  }
 ],
 "metadata": {
  "kernelspec": {
   "display_name": "Python 3",
   "language": "python",
   "name": "python3"
  },
  "language_info": {
   "codemirror_mode": {
    "name": "ipython",
    "version": 3
   },
   "file_extension": ".py",
   "mimetype": "text/x-python",
   "name": "python",
   "nbconvert_exporter": "python",
   "pygments_lexer": "ipython3",
   "version": "3.8.3"
  }
 },
 "nbformat": 4,
 "nbformat_minor": 2
}
