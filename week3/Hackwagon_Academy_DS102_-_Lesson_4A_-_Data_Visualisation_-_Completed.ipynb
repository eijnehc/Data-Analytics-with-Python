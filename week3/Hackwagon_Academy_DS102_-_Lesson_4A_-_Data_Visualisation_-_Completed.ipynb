{
 "cells": [
  {
   "cell_type": "markdown",
   "metadata": {},
   "source": [
    "<center><img src=\"https://i2.wp.com/hackwagon.com/wp-content/uploads/2017/02/Logo-Web-Export.png?ssl=1\" width=200/></center>\n",
    "<h1> Hackwagon Academy DS102 Lesson 4A </h1>\n",
    "<h2> Data Visualisation</h2> \n",
    "<h3> Lesson Outline </h3>\n",
    "\n",
    "- 1. [Matplotlib & Pandas](#1)\n",
    "    - 1.1 [Introduction](#1.1)\n",
    "    - 1.2 [Plotting](#1.2)\n",
    "    - 1.3 [Designing Your Plots](#1.3)\n",
    "        - 1.3.1 [Title, Labels, Ticks, Colors](#1.3.1)\n",
    "        - 1.3.2 [Markers, Alphas, Sizes](#1.3.2)\n",
    "    - 1.4 [Subplots](#1.4)\n",
    "    - 1.5 [Saving Figure](#1.5)\n",
    "    - [Practice I](#P1)\n",
    "    - [Practice II](#P2)"
   ]
  },
  {
   "cell_type": "markdown",
   "metadata": {},
   "source": [
    "### Import Libraries"
   ]
  },
  {
   "cell_type": "code",
   "execution_count": 1,
   "metadata": {},
   "outputs": [],
   "source": [
    "import pandas as pd\n",
    "import random\n",
    "import numpy as np\n",
    "import seaborn as sns\n",
    "import matplotlib.pyplot as plt\n",
    "# Display all floats rounded off to 1 decimal place\n",
    "pd.options.display.float_format = '{:,.1f}'.format\n",
    "# Plot static image in Jupyter notebook\n",
    "%matplotlib inline\n",
    "# Settings throughout the notebook\n",
    "sns.set()"
   ]
  },
  {
   "cell_type": "markdown",
   "metadata": {},
   "source": [
    "<hr/>\n",
    "\n",
    "<a id='1'><h2><img src=\"https://images.vexels.com/media/users/3/153978/isolated/preview/483ef8b10a46e28d02293a31570c8c56-warning-sign-colored-stroke-icon-by-vexels.png\" width=23 align=\"left\"><font color=\"salmon\">&nbsp;1.</font><font color=\"salmon\"> Matplotlib </font> </h2></a>"
   ]
  },
  {
   "cell_type": "markdown",
   "metadata": {},
   "source": [
    "<a id='1.1'><h3>1.1 Introduction</h3></a>\n",
    "\n",
    "Matplotlib is one of the first and many visualisation libraries like Seaborn use the similar syntax. \n",
    "\n",
    "Pros:\n",
    "1. Provides a standard for other visualisation libraries\n",
    "2. Leveraged by many other libraries\n",
    "\n",
    "Cons:\n",
    "1. Documentation that is difficult to understand\n",
    "2. Restrictive syntax\n",
    "\n",
    "<img src=\"https://i.imgur.com/uYYgeZ3.png\" width=\"300\">"
   ]
  },
  {
   "cell_type": "markdown",
   "metadata": {},
   "source": [
    "<a id='1.2'><h3>1.2 Plotting</h3></a>\n",
    "\n",
    "Creating visualisations is <b>very simple</b>, just tell yourself that you need 2 <b>lists</b> of data of the same <b>length</b> and put them into the library's function and <b><i>it just works!</i></b>"
   ]
  },
  {
   "cell_type": "code",
   "execution_count": 2,
   "metadata": {},
   "outputs": [],
   "source": [
    "def create_random_numbers():\n",
    "    results = []\n",
    "    for i in range(10):\n",
    "        results.append(random.randrange(1,101,1))\n",
    "    return results"
   ]
  },
  {
   "cell_type": "code",
   "execution_count": 3,
   "metadata": {},
   "outputs": [
    {
     "name": "stdout",
     "output_type": "stream",
     "text": [
      "[2, 12, 27, 31, 45, 56, 74, 74, 80, 91]\n",
      "[15, 19, 20, 23, 25, 42, 47, 58, 77, 93]\n"
     ]
    }
   ],
   "source": [
    "x = create_random_numbers()\n",
    "y = create_random_numbers()\n",
    "x.sort()\n",
    "y.sort()\n",
    "print(x)\n",
    "print(y)"
   ]
  },
  {
   "cell_type": "markdown",
   "metadata": {},
   "source": [
    "### Using matplotlib\n",
    "\n",
    "Plotting using matplotlib with basic Python lists is as follows. "
   ]
  },
  {
   "cell_type": "code",
   "execution_count": 4,
   "metadata": {},
   "outputs": [
    {
     "data": {
      "text/plain": [
       "<BarContainer object of 10 artists>"
      ]
     },
     "execution_count": 4,
     "metadata": {},
     "output_type": "execute_result"
    },
    {
     "data": {
      "image/png": "[encoded data removed]",
      "text/plain": [
       "<Figure size 432x288 with 1 Axes>"
      ]
     },
     "metadata": {
      "needs_background": "light"
     },
     "output_type": "display_data"
    }
   ],
   "source": [
    "plt.bar(x,y)"
   ]
  },
  {
   "cell_type": "markdown",
   "metadata": {},
   "source": [
    "### As A DataFrame\n"
   ]
  },
  {
   "cell_type": "code",
   "execution_count": 5,
   "metadata": {},
   "outputs": [
    {
     "data": {
      "text/html": [
       "<div>\n",
       "<style scoped>\n",
       "    .dataframe tbody tr th:only-of-type {\n",
       "        vertical-align: middle;\n",
       "    }\n",
       "\n",
       "    .dataframe tbody tr th {\n",
       "        vertical-align: top;\n",
       "    }\n",
       "\n",
       "    .dataframe thead th {\n",
       "        text-align: right;\n",
       "    }\n",
       "</style>\n",
       "<table border=\"1\" class=\"dataframe\">\n",
       "  <thead>\n",
       "    <tr style=\"text-align: right;\">\n",
       "      <th></th>\n",
       "      <th>x_values</th>\n",
       "      <th>y_values</th>\n",
       "    </tr>\n",
       "  </thead>\n",
       "  <tbody>\n",
       "    <tr>\n",
       "      <th>0</th>\n",
       "      <td>2</td>\n",
       "      <td>15</td>\n",
       "    </tr>\n",
       "    <tr>\n",
       "      <th>1</th>\n",
       "      <td>12</td>\n",
       "      <td>19</td>\n",
       "    </tr>\n",
       "    <tr>\n",
       "      <th>2</th>\n",
       "      <td>27</td>\n",
       "      <td>20</td>\n",
       "    </tr>\n",
       "    <tr>\n",
       "      <th>3</th>\n",
       "      <td>31</td>\n",
       "      <td>23</td>\n",
       "    </tr>\n",
       "    <tr>\n",
       "      <th>4</th>\n",
       "      <td>45</td>\n",
       "      <td>25</td>\n",
       "    </tr>\n",
       "    <tr>\n",
       "      <th>5</th>\n",
       "      <td>56</td>\n",
       "      <td>42</td>\n",
       "    </tr>\n",
       "    <tr>\n",
       "      <th>6</th>\n",
       "      <td>74</td>\n",
       "      <td>47</td>\n",
       "    </tr>\n",
       "    <tr>\n",
       "      <th>7</th>\n",
       "      <td>74</td>\n",
       "      <td>58</td>\n",
       "    </tr>\n",
       "    <tr>\n",
       "      <th>8</th>\n",
       "      <td>80</td>\n",
       "      <td>77</td>\n",
       "    </tr>\n",
       "    <tr>\n",
       "      <th>9</th>\n",
       "      <td>91</td>\n",
       "      <td>93</td>\n",
       "    </tr>\n",
       "  </tbody>\n",
       "</table>\n",
       "</div>"
      ],
      "text/plain": [
       "   x_values  y_values\n",
       "0         2        15\n",
       "1        12        19\n",
       "2        27        20\n",
       "3        31        23\n",
       "4        45        25\n",
       "5        56        42\n",
       "6        74        47\n",
       "7        74        58\n",
       "8        80        77\n",
       "9        91        93"
      ]
     },
     "execution_count": 5,
     "metadata": {},
     "output_type": "execute_result"
    }
   ],
   "source": [
    "data = {\n",
    "    'x_values': x,\n",
    "    'y_values': y\n",
    "}\n",
    "random_df = pd.DataFrame(data)\n",
    "random_df"
   ]
  },
  {
   "cell_type": "markdown",
   "metadata": {},
   "source": [
    "### Plotting with Pandas \n",
    "\n",
    "Using pandas, many of matplotlib's functions are stored within the `.plot()` function. Switch between the different kinds of plots, just change the `kind=` parameter to suit your needs. \n",
    "\n",
    "<b>To fully understand the pandas plotting settings, read the documentation here: https://pandas.pydata.org/pandas-docs/stable/reference/api/pandas.DataFrame.plot.html</b>\n",
    "\n",
    "<img src=\"https://i.imgur.com/oxpzNPz.png\" width=400>"
   ]
  },
  {
   "cell_type": "code",
   "execution_count": 6,
   "metadata": {},
   "outputs": [
    {
     "data": {
      "text/plain": [
       "<matplotlib.axes._subplots.AxesSubplot at 0x12d6e9e80>"
      ]
     },
     "execution_count": 6,
     "metadata": {},
     "output_type": "execute_result"
    },
    {
     "data": {
      "image/png": "[encoded data removed]",
      "text/plain": [
       "<Figure size 432x288 with 1 Axes>"
      ]
     },
     "metadata": {
      "needs_background": "light"
     },
     "output_type": "display_data"
    }
   ],
   "source": [
    "random_df.plot(kind='bar',\n",
    "               x='x_values',\n",
    "               y='y_values')"
   ]
  },
  {
   "cell_type": "markdown",
   "metadata": {},
   "source": [
    "<a id='1.3'><h3>1.3 Designing Your Plots</h3></a>\n",
    "\n",
    "A good graph should contain the following features so it can easy to read and interpret:\n",
    "\n",
    "- Title\n",
    "- Legend\n",
    "- Axes Labels for both the horizontal or $x$-axis and the vertical or $y$-axis\n",
    "- Reasonable tick values\n",
    "\n",
    "### Anatomy of a Plot\n",
    "\n",
    "<img src=\"https://i.imgur.com/AKpvE3C.png\" width=400>"
   ]
  },
  {
   "cell_type": "markdown",
   "metadata": {},
   "source": [
    "<a id='1.3.1'><h3>1.3.1 Title, Labels, Ticks, Colors</h3></a>\n",
    "\n",
    "- Title - `plt.title()`\n",
    "- X and Y Axis Labels - `plt.xlabel()` & `plt.ylabel()`\n",
    "- Ticks - `plt.xticks()` & `plt.xticks()`\n",
    "- Color - `color=`"
   ]
  },
  {
   "cell_type": "code",
   "execution_count": 7,
   "metadata": {},
   "outputs": [
    {
     "data": {
      "image/png": "[encoded data removed]",
      "text/plain": [
       "<Figure size 432x288 with 1 Axes>"
      ]
     },
     "metadata": {
      "needs_background": "light"
     },
     "output_type": "display_data"
    }
   ],
   "source": [
    "random_df.plot(kind='line',\n",
    "               x='x_values',\n",
    "               y='y_values',\n",
    "              color='red')\n",
    "plt.title('Hello')\n",
    "plt.xlabel('X label is not bad')\n",
    "plt.ylabel('Y label is not bad')\n",
    "plt.xticks(np.arange(10,65,5))\n",
    "plt.yticks(np.arange(10,65,5))\n",
    "plt.show()"
   ]
  },
  {
   "cell_type": "markdown",
   "metadata": {},
   "source": [
    "<a id='1.3.2'><h3>1.3.2 Markers, Alphas, Sizes</h3></a>\n",
    "\n",
    "When designing scatterplots, sometimes you want certain points to be more distinct than the others.\n",
    "\n",
    "- Markers - Design of each point: `marker=`\n",
    "- Alphas - Transparency of each point: `alpha=` (between 1 to 0, 1 being darkest, 0 being transparent)\n",
    "- Size - Size of each point: `s=`"
   ]
  },
  {
   "cell_type": "code",
   "execution_count": 8,
   "metadata": {},
   "outputs": [
    {
     "data": {
      "image/png": "[encoded data removed]",
      "text/plain": [
       "<Figure size 432x288 with 1 Axes>"
      ]
     },
     "metadata": {
      "needs_background": "light"
     },
     "output_type": "display_data"
    }
   ],
   "source": [
    "random_df.plot(kind='scatter',\n",
    "               x='x_values',\n",
    "               y='y_values',\n",
    "              marker='D',\n",
    "              s=100,\n",
    "              alpha=0.5,\n",
    "              color='red')\n",
    "plt.title('Hello')\n",
    "plt.show()"
   ]
  },
  {
   "cell_type": "markdown",
   "metadata": {},
   "source": [
    "<a id='1.4'><h3>1.4 Subplots</h3></a>\n",
    "\n",
    "To plot mulitple plots within a single figure, we need to understand the columns, rows and index that identify them. \n",
    "\n",
    "<img src=\"https://i.imgur.com/JrukTTS.png\" width=\"300\">\n",
    "\n",
    "<h3>Saving Figures</h3>\n",
    "\n",
    "To save figures, use `.savefig()` with the name of the file inside the (). The filename should end with either a `.png` or `.jpg`"
   ]
  },
  {
   "cell_type": "code",
   "execution_count": 9,
   "metadata": {},
   "outputs": [
    {
     "name": "stderr",
     "output_type": "stream",
     "text": [
      "'c' argument looks like a single numeric RGB or RGBA sequence, which should be avoided as value-mapping will have precedence in case its length matches with 'x' & 'y'.  Please use a 2-D array with a single row if you really want to specify the same RGB or RGBA value for all points.\n"
     ]
    },
    {
     "data": {
      "image/png": "[encoded data removed]",
      "text/plain": [
       "<Figure size 1152x576 with 3 Axes>"
      ]
     },
     "metadata": {
      "needs_background": "light"
     },
     "output_type": "display_data"
    },
    {
     "data": {
      "text/plain": [
       "<Figure size 432x288 with 0 Axes>"
      ]
     },
     "metadata": {},
     "output_type": "display_data"
    }
   ],
   "source": [
    "# Create the figure\n",
    "fig_dimensions=(16, 8)\n",
    "fig = plt.figure(figsize = fig_dimensions)\n",
    "\n",
    "# Add one subplot\n",
    "ax1 = fig.add_subplot(2,2,1)\n",
    "random_df.plot(x='x_values', y='y_values', ax=ax1, kind='scatter')\n",
    "ax1.set_title('Scatter plot')\n",
    "ax1.legend([\"Randomly generated series\"], fontsize=12)\n",
    "\n",
    "# Add another subplot\n",
    "ax2 = fig.add_subplot(2,2,2)\n",
    "random_df.plot(x='x_values', y='y_values', ax=ax2, kind='line')\n",
    "ax2.set_title('Line plot')\n",
    "ax2.legend([\"Randomly generated series\"], fontsize=12)\n",
    "\n",
    "# Add third subplot beneath\n",
    "ax3 = fig.add_subplot(2,1,2)\n",
    "random_df.plot(x='x_values', y='y_values', ax=ax3, kind='bar')\n",
    "ax3.set_title('Bar plot')\n",
    "ax3.set_xlabel('Value')\n",
    "ax3.set_ylabel('Count')\n",
    "ax3.legend([\"Randomly generated values\"], fontsize=12)\n",
    "\n",
    "plt.show()\n",
    "plt.savefig('testing.png')"
   ]
  },
  {
   "cell_type": "markdown",
   "metadata": {},
   "source": [
    "<a id='P1'><h2> <img src=\"https://cdn.shopify.com/s/files/1/1200/7374/products/book_aec28e76-52ec-44ab-bc01-41df1279c89f_550x825.png?v=1473897430\" width=25 align=\"left\"> <font color=\"darkorange\"> &nbsp; Practice I </font><font color=\"skyblue\"> * </font></h2></a>\n",
    "\n",
    "### South Korean Tourist Departures\n",
    "\n",
    "#### Read Dataset\n",
    "\n",
    "Read the `kor-tourist-departures.csv` dataset and save it as `kto_depart_df`. Preview the dataset to understand the nature of the dataset."
   ]
  },
  {
   "cell_type": "code",
   "execution_count": 10,
   "metadata": {},
   "outputs": [
    {
     "data": {
      "text/html": [
       "<div>\n",
       "<style scoped>\n",
       "    .dataframe tbody tr th:only-of-type {\n",
       "        vertical-align: middle;\n",
       "    }\n",
       "\n",
       "    .dataframe tbody tr th {\n",
       "        vertical-align: top;\n",
       "    }\n",
       "\n",
       "    .dataframe thead th {\n",
       "        text-align: right;\n",
       "    }\n",
       "</style>\n",
       "<table border=\"1\" class=\"dataframe\">\n",
       "  <thead>\n",
       "    <tr style=\"text-align: right;\">\n",
       "      <th></th>\n",
       "      <th>year</th>\n",
       "      <th>visitor_departures</th>\n",
       "    </tr>\n",
       "  </thead>\n",
       "  <tbody>\n",
       "    <tr>\n",
       "      <th>0</th>\n",
       "      <td>2000</td>\n",
       "      <td>5508242</td>\n",
       "    </tr>\n",
       "    <tr>\n",
       "      <th>1</th>\n",
       "      <td>2001</td>\n",
       "      <td>6084476</td>\n",
       "    </tr>\n",
       "    <tr>\n",
       "      <th>2</th>\n",
       "      <td>2002</td>\n",
       "      <td>7123407</td>\n",
       "    </tr>\n",
       "    <tr>\n",
       "      <th>3</th>\n",
       "      <td>2003</td>\n",
       "      <td>7086133</td>\n",
       "    </tr>\n",
       "    <tr>\n",
       "      <th>4</th>\n",
       "      <td>2004</td>\n",
       "      <td>8825585</td>\n",
       "    </tr>\n",
       "  </tbody>\n",
       "</table>\n",
       "</div>"
      ],
      "text/plain": [
       "   year  visitor_departures\n",
       "0  2000             5508242\n",
       "1  2001             6084476\n",
       "2  2002             7123407\n",
       "3  2003             7086133\n",
       "4  2004             8825585"
      ]
     },
     "execution_count": 10,
     "metadata": {},
     "output_type": "execute_result"
    }
   ],
   "source": [
    "kto_depart_df = pd.read_csv('kor-tourist-departures.csv')\n",
    "kto_depart_df.head()"
   ]
  },
  {
   "cell_type": "markdown",
   "metadata": {},
   "source": [
    "#### Prepare Data\n",
    "\n",
    "Create a new column called `visitor_departures_m` after using `.apply` to change visitor departures from ones to millions (i.e divide by 1000000) "
   ]
  },
  {
   "cell_type": "code",
   "execution_count": 11,
   "metadata": {},
   "outputs": [],
   "source": [
    "kto_depart_df['visitor_departures_m'] = kto_depart_df['visitor_departures'].apply(lambda n : n/1000000)"
   ]
  },
  {
   "cell_type": "markdown",
   "metadata": {},
   "source": [
    "#### Visualise\n",
    "\n",
    "Using what you've learnt so far, visualise the dataset and get a similar design and label as the following line chart.\n",
    "\n",
    "#### Export and Save Visualisation\n",
    "\n",
    "Using `plt.savefig()`, save the figure with the following name, `South Korean Tourist Departures.jpg`. "
   ]
  },
  {
   "cell_type": "code",
   "execution_count": 12,
   "metadata": {},
   "outputs": [
    {
     "data": {
      "text/plain": [
       "<matplotlib.legend.Legend at 0x12e180240>"
      ]
     },
     "execution_count": 12,
     "metadata": {},
     "output_type": "execute_result"
    },
    {
     "data": {
      "image/png": "[encoded data removed]",
      "text/plain": [
       "<Figure size 1152x432 with 1 Axes>"
      ]
     },
     "metadata": {
      "needs_background": "light"
     },
     "output_type": "display_data"
    }
   ],
   "source": [
    "# Plot the line graph where the x-axis is the year and the y-axis is the no. of tourists, in millions\n",
    "fig = plt.figure(figsize=(16,6))\n",
    "ax1 = fig.add_subplot(111)\n",
    "\n",
    "kto_depart_df.plot(kind='line', x='year', y='visitor_departures_m', marker=\"X\",\n",
    "             title=\"S Korea Tourist Departures, 2000 - 2015\", ax=ax1)\n",
    "\n",
    "plt.xticks(np.arange(1999, 2016))\n",
    "plt.xlabel(\"Year\")\n",
    "\n",
    "plt.yticks(np.arange(0, 24, 2))\n",
    "plt.ylabel(\"No. of Departures (Millions)\")\n",
    "\n",
    "ax1.legend([\"No. of Tourist Departures (Millions)\"], fontsize=12)"
   ]
  },
  {
   "cell_type": "markdown",
   "metadata": {},
   "source": [
    "<center><h3> End of Practice I </h3></center>"
   ]
  },
  {
   "cell_type": "markdown",
   "metadata": {},
   "source": [
    "<a id='P2'><h2> <img src=\"https://cdn.shopify.com/s/files/1/1200/7374/products/book_aec28e76-52ec-44ab-bc01-41df1279c89f_550x825.png?v=1473897430\" width=25 align=\"left\"> <font color=\"darkorange\"> &nbsp; Practice II </font><font color=\"skyblue\"> * </font></h2></a>\n",
    "\n",
    "### Term Loans Visualisation\n",
    "\n",
    "Using everything you've learnt above, prepare the following visualisation based on the `loans-25k.csv` dataset.\n",
    "\n",
    "#### Read Dataset\n",
    "\n",
    "Read the `loans-25k.csv` dataset and save it as `loans_df`. Preview the dataset to understand the nature of the dataset."
   ]
  },
  {
   "cell_type": "code",
   "execution_count": 13,
   "metadata": {},
   "outputs": [
    {
     "data": {
      "text/html": [
       "<div>\n",
       "<style scoped>\n",
       "    .dataframe tbody tr th:only-of-type {\n",
       "        vertical-align: middle;\n",
       "    }\n",
       "\n",
       "    .dataframe tbody tr th {\n",
       "        vertical-align: top;\n",
       "    }\n",
       "\n",
       "    .dataframe thead th {\n",
       "        text-align: right;\n",
       "    }\n",
       "</style>\n",
       "<table border=\"1\" class=\"dataframe\">\n",
       "  <thead>\n",
       "    <tr style=\"text-align: right;\">\n",
       "      <th></th>\n",
       "      <th>id</th>\n",
       "      <th>member_id</th>\n",
       "      <th>annual_inc</th>\n",
       "      <th>home_ownership</th>\n",
       "      <th>purpose</th>\n",
       "      <th>loan_amnt</th>\n",
       "      <th>int_rate</th>\n",
       "      <th>term</th>\n",
       "      <th>grade</th>\n",
       "    </tr>\n",
       "  </thead>\n",
       "  <tbody>\n",
       "    <tr>\n",
       "      <th>0</th>\n",
       "      <td>63459002</td>\n",
       "      <td>67801839</td>\n",
       "      <td>131,000.0</td>\n",
       "      <td>MORTGAGE</td>\n",
       "      <td>credit_card</td>\n",
       "      <td>35,000.0</td>\n",
       "      <td>8.2</td>\n",
       "      <td>36 months</td>\n",
       "      <td>B</td>\n",
       "    </tr>\n",
       "    <tr>\n",
       "      <th>1</th>\n",
       "      <td>2224979</td>\n",
       "      <td>2637150</td>\n",
       "      <td>125,000.0</td>\n",
       "      <td>MORTGAGE</td>\n",
       "      <td>debt_consolidation</td>\n",
       "      <td>29,700.0</td>\n",
       "      <td>15.3</td>\n",
       "      <td>60 months</td>\n",
       "      <td>C</td>\n",
       "    </tr>\n",
       "    <tr>\n",
       "      <th>2</th>\n",
       "      <td>5979460</td>\n",
       "      <td>7451906</td>\n",
       "      <td>36,070.0</td>\n",
       "      <td>MORTGAGE</td>\n",
       "      <td>debt_consolidation</td>\n",
       "      <td>6,700.0</td>\n",
       "      <td>7.9</td>\n",
       "      <td>36 months</td>\n",
       "      <td>A</td>\n",
       "    </tr>\n",
       "    <tr>\n",
       "      <th>3</th>\n",
       "      <td>57126822</td>\n",
       "      <td>60829645</td>\n",
       "      <td>90,000.0</td>\n",
       "      <td>RENT</td>\n",
       "      <td>credit_card</td>\n",
       "      <td>18,000.0</td>\n",
       "      <td>8.2</td>\n",
       "      <td>60 months</td>\n",
       "      <td>B</td>\n",
       "    </tr>\n",
       "    <tr>\n",
       "      <th>4</th>\n",
       "      <td>1445209</td>\n",
       "      <td>1697667</td>\n",
       "      <td>90,000.0</td>\n",
       "      <td>MORTGAGE</td>\n",
       "      <td>small_business</td>\n",
       "      <td>18,000.0</td>\n",
       "      <td>7.6</td>\n",
       "      <td>36 months</td>\n",
       "      <td>A</td>\n",
       "    </tr>\n",
       "  </tbody>\n",
       "</table>\n",
       "</div>"
      ],
      "text/plain": [
       "         id  member_id  annual_inc home_ownership             purpose  \\\n",
       "0  63459002   67801839   131,000.0       MORTGAGE         credit_card   \n",
       "1   2224979    2637150   125,000.0       MORTGAGE  debt_consolidation   \n",
       "2   5979460    7451906    36,070.0       MORTGAGE  debt_consolidation   \n",
       "3  57126822   60829645    90,000.0           RENT         credit_card   \n",
       "4   1445209    1697667    90,000.0       MORTGAGE      small_business   \n",
       "\n",
       "   loan_amnt  int_rate        term grade  \n",
       "0   35,000.0       8.2   36 months     B  \n",
       "1   29,700.0      15.3   60 months     C  \n",
       "2    6,700.0       7.9   36 months     A  \n",
       "3   18,000.0       8.2   60 months     B  \n",
       "4   18,000.0       7.6   36 months     A  "
      ]
     },
     "execution_count": 13,
     "metadata": {},
     "output_type": "execute_result"
    }
   ],
   "source": [
    "loans_df = pd.read_csv('loans-25k.csv')\n",
    "loans_df.head()"
   ]
  },
  {
   "cell_type": "markdown",
   "metadata": {},
   "source": [
    "#### Isolate and Group\n",
    "\n",
    "Isolate the data to just the `term`, `grade` columns and store them as a separate DataFrame. After that, group them up by their `grade`, then `term` (using a list). Store the grouped data as `term_grade_group`."
   ]
  },
  {
   "cell_type": "code",
   "execution_count": 14,
   "metadata": {},
   "outputs": [],
   "source": [
    "term_grade = loans_df[['term','grade']]\n",
    "tg_groupby = term_grade.groupby(['grade','term'])"
   ]
  },
  {
   "cell_type": "markdown",
   "metadata": {},
   "source": [
    "#### Size of Each Grade and Term\n",
    "\n",
    "Using the group, get the size of each object and <b>reset its index</b> so that it's now a flattened dataframe of the following output: \n",
    "\n",
    "<img src=\"https://i.imgur.com/fOvft3H.png\" width=200>\n",
    "\n",
    "After which, rename the columns to `Grade`, `Term`, `No. of Loans` respectively, by changing the `.columns` attribute."
   ]
  },
  {
   "cell_type": "code",
   "execution_count": 15,
   "metadata": {},
   "outputs": [
    {
     "data": {
      "text/html": [
       "<div>\n",
       "<style scoped>\n",
       "    .dataframe tbody tr th:only-of-type {\n",
       "        vertical-align: middle;\n",
       "    }\n",
       "\n",
       "    .dataframe tbody tr th {\n",
       "        vertical-align: top;\n",
       "    }\n",
       "\n",
       "    .dataframe thead th {\n",
       "        text-align: right;\n",
       "    }\n",
       "</style>\n",
       "<table border=\"1\" class=\"dataframe\">\n",
       "  <thead>\n",
       "    <tr style=\"text-align: right;\">\n",
       "      <th></th>\n",
       "      <th>Grade</th>\n",
       "      <th>Term</th>\n",
       "      <th>No. of Loans</th>\n",
       "    </tr>\n",
       "  </thead>\n",
       "  <tbody>\n",
       "    <tr>\n",
       "      <th>0</th>\n",
       "      <td>A</td>\n",
       "      <td>36 months</td>\n",
       "      <td>4033</td>\n",
       "    </tr>\n",
       "    <tr>\n",
       "      <th>1</th>\n",
       "      <td>A</td>\n",
       "      <td>60 months</td>\n",
       "      <td>139</td>\n",
       "    </tr>\n",
       "    <tr>\n",
       "      <th>2</th>\n",
       "      <td>B</td>\n",
       "      <td>36 months</td>\n",
       "      <td>6015</td>\n",
       "    </tr>\n",
       "    <tr>\n",
       "      <th>3</th>\n",
       "      <td>B</td>\n",
       "      <td>60 months</td>\n",
       "      <td>1179</td>\n",
       "    </tr>\n",
       "    <tr>\n",
       "      <th>4</th>\n",
       "      <td>C</td>\n",
       "      <td>36 months</td>\n",
       "      <td>4582</td>\n",
       "    </tr>\n",
       "    <tr>\n",
       "      <th>5</th>\n",
       "      <td>C</td>\n",
       "      <td>60 months</td>\n",
       "      <td>2371</td>\n",
       "    </tr>\n",
       "    <tr>\n",
       "      <th>6</th>\n",
       "      <td>D</td>\n",
       "      <td>36 months</td>\n",
       "      <td>2183</td>\n",
       "    </tr>\n",
       "    <tr>\n",
       "      <th>7</th>\n",
       "      <td>D</td>\n",
       "      <td>60 months</td>\n",
       "      <td>1737</td>\n",
       "    </tr>\n",
       "    <tr>\n",
       "      <th>8</th>\n",
       "      <td>E</td>\n",
       "      <td>36 months</td>\n",
       "      <td>626</td>\n",
       "    </tr>\n",
       "    <tr>\n",
       "      <th>9</th>\n",
       "      <td>E</td>\n",
       "      <td>60 months</td>\n",
       "      <td>1379</td>\n",
       "    </tr>\n",
       "    <tr>\n",
       "      <th>10</th>\n",
       "      <td>F</td>\n",
       "      <td>36 months</td>\n",
       "      <td>108</td>\n",
       "    </tr>\n",
       "    <tr>\n",
       "      <th>11</th>\n",
       "      <td>F</td>\n",
       "      <td>60 months</td>\n",
       "      <td>504</td>\n",
       "    </tr>\n",
       "    <tr>\n",
       "      <th>12</th>\n",
       "      <td>G</td>\n",
       "      <td>36 months</td>\n",
       "      <td>19</td>\n",
       "    </tr>\n",
       "    <tr>\n",
       "      <th>13</th>\n",
       "      <td>G</td>\n",
       "      <td>60 months</td>\n",
       "      <td>125</td>\n",
       "    </tr>\n",
       "  </tbody>\n",
       "</table>\n",
       "</div>"
      ],
      "text/plain": [
       "   Grade        Term  No. of Loans\n",
       "0      A   36 months          4033\n",
       "1      A   60 months           139\n",
       "2      B   36 months          6015\n",
       "3      B   60 months          1179\n",
       "4      C   36 months          4582\n",
       "5      C   60 months          2371\n",
       "6      D   36 months          2183\n",
       "7      D   60 months          1737\n",
       "8      E   36 months           626\n",
       "9      E   60 months          1379\n",
       "10     F   36 months           108\n",
       "11     F   60 months           504\n",
       "12     G   36 months            19\n",
       "13     G   60 months           125"
      ]
     },
     "execution_count": 15,
     "metadata": {},
     "output_type": "execute_result"
    }
   ],
   "source": [
    "flatten_df = tg_groupby.size().reset_index()\n",
    "flatten_df.columns = ['Grade', 'Term', 'No. of Loans']\n",
    "flatten_df"
   ]
  },
  {
   "cell_type": "markdown",
   "metadata": {},
   "source": [
    "#### Pivot Table\n",
    "\n",
    "Using `pd.pivot_table`, change the structure of the DataFrame such that the index = `Grade`, columns = `Term`, values = `No. of Loans` and it is aggregated by the `np.sum` function. <b>Reset the pivoted_table's index</b> and change the columns to the following name `Grade`, `36 Months`, `60 Months`. \n",
    "\n",
    "Expected Final DataFrame: \n",
    "\n",
    "<img src=\"https://i.imgur.com/sFIaS5a.png\" width=200>"
   ]
  },
  {
   "cell_type": "code",
   "execution_count": 16,
   "metadata": {},
   "outputs": [
    {
     "data": {
      "text/html": [
       "<div>\n",
       "<style scoped>\n",
       "    .dataframe tbody tr th:only-of-type {\n",
       "        vertical-align: middle;\n",
       "    }\n",
       "\n",
       "    .dataframe tbody tr th {\n",
       "        vertical-align: top;\n",
       "    }\n",
       "\n",
       "    .dataframe thead th {\n",
       "        text-align: right;\n",
       "    }\n",
       "</style>\n",
       "<table border=\"1\" class=\"dataframe\">\n",
       "  <thead>\n",
       "    <tr style=\"text-align: right;\">\n",
       "      <th></th>\n",
       "      <th>Grade</th>\n",
       "      <th>36 Months</th>\n",
       "      <th>60 Months</th>\n",
       "    </tr>\n",
       "  </thead>\n",
       "  <tbody>\n",
       "    <tr>\n",
       "      <th>0</th>\n",
       "      <td>A</td>\n",
       "      <td>4033</td>\n",
       "      <td>139</td>\n",
       "    </tr>\n",
       "    <tr>\n",
       "      <th>1</th>\n",
       "      <td>B</td>\n",
       "      <td>6015</td>\n",
       "      <td>1179</td>\n",
       "    </tr>\n",
       "    <tr>\n",
       "      <th>2</th>\n",
       "      <td>C</td>\n",
       "      <td>4582</td>\n",
       "      <td>2371</td>\n",
       "    </tr>\n",
       "    <tr>\n",
       "      <th>3</th>\n",
       "      <td>D</td>\n",
       "      <td>2183</td>\n",
       "      <td>1737</td>\n",
       "    </tr>\n",
       "    <tr>\n",
       "      <th>4</th>\n",
       "      <td>E</td>\n",
       "      <td>626</td>\n",
       "      <td>1379</td>\n",
       "    </tr>\n",
       "    <tr>\n",
       "      <th>5</th>\n",
       "      <td>F</td>\n",
       "      <td>108</td>\n",
       "      <td>504</td>\n",
       "    </tr>\n",
       "    <tr>\n",
       "      <th>6</th>\n",
       "      <td>G</td>\n",
       "      <td>19</td>\n",
       "      <td>125</td>\n",
       "    </tr>\n",
       "  </tbody>\n",
       "</table>\n",
       "</div>"
      ],
      "text/plain": [
       "  Grade  36 Months  60 Months\n",
       "0     A       4033        139\n",
       "1     B       6015       1179\n",
       "2     C       4582       2371\n",
       "3     D       2183       1737\n",
       "4     E        626       1379\n",
       "5     F        108        504\n",
       "6     G         19        125"
      ]
     },
     "execution_count": 16,
     "metadata": {},
     "output_type": "execute_result"
    }
   ],
   "source": [
    "term_grade_loans_pivot = pd.pivot_table(flatten_df, index=['Grade'], columns=['Term'],\n",
    "                                       values='No. of Loans', aggfunc=np.sum)\n",
    "term_grade_loans_pivot.reset_index(inplace=True)\n",
    "term_grade_loans_pivot.columns = ['Grade', '36 Months', '60 Months']\n",
    "term_grade_loans_pivot"
   ]
  },
  {
   "cell_type": "markdown",
   "metadata": {},
   "source": [
    "#### Visualise \n",
    "\n",
    "Using the prepared DataFrame above, prepare the following visualisation, matching a similar design and labels shown: \n",
    "\n",
    "<i>For the 3rd chart, use the <code>stacked</code> argument and set a Boolean value</i>\n",
    "\n",
    "#### Export and Save Visualisation\n",
    "\n",
    "Using `plt.savefig()`, save the figure with the following name, `No. of Loans by Grade and Terms.jpg`. \n",
    "\n",
    "<img src=\"https://i.imgur.com/HpST8Lc.png\" width=800>"
   ]
  },
  {
   "cell_type": "code",
   "execution_count": 17,
   "metadata": {},
   "outputs": [
    {
     "data": {
      "image/png": "[encoded data removed]",
      "text/plain": [
       "<Figure size 1152x504 with 3 Axes>"
      ]
     },
     "metadata": {
      "needs_background": "light"
     },
     "output_type": "display_data"
    }
   ],
   "source": [
    "fig = plt.figure(figsize=(16, 7))\n",
    "\n",
    "# Explanation for fig.add_subplot()\n",
    "# The first number is the no. of rows. \n",
    "# The second number is the no. of columns.\n",
    "# The third number is the plot number. Count right, then count down.\n",
    "ax1 = fig.add_subplot(2,2,1)\n",
    "ax2 = fig.add_subplot(2,2,2)\n",
    "ax3 = fig.add_subplot(2,1,2)\n",
    "\n",
    "#Plot for 36 months\n",
    "term_grade_loans_pivot.plot(kind='bar',x='Grade', y='36 Months', ax=ax1\n",
    "           ,color=\"tomato\")\n",
    "ax1.set_ylabel(\"No. of Loans\")\n",
    "ax1.set_title(\"No. of Loans by Grade, 36 Months Term\")\n",
    "ax1.set_yticks(np.arange(0, 7500, 1000)) #This needs to be specified so both charts are on the same scale.\n",
    "ax1.set_ylabel(\"No. of Loans\")\n",
    "\n",
    "\n",
    "#Plot for 60 months\n",
    "term_grade_loans_pivot.plot(kind='bar',x='Grade', y='60 Months', ax=ax2\n",
    "           ,color=\"skyblue\")\n",
    "ax2.set_title(\"No. of Loans by Grade, 60 Months Term\")\n",
    "ax2.set_ylabel(\"No. of Loans\")\n",
    "\n",
    "# Set the scale of the plots to be the same.\n",
    "ax2.set_yticks(np.arange(0, 7500, 1000)) #This needs to be specified so both charts are on the same scale.\n",
    "\n",
    "\n",
    "# \n",
    "term_grade_loans_pivot.plot(kind='bar', stacked=True, title=\"No. of Loans by Grade\",\n",
    "                                   ax=ax3)\n",
    "plt.suptitle(\"No. of Loans by Term and Grade\", fontsize=15)\n",
    "plt.show()"
   ]
  },
  {
   "cell_type": "markdown",
   "metadata": {},
   "source": [
    "<center><h3> End of Practice II </h3></center>"
   ]
  }
 ],
 "metadata": {
  "kernelspec": {
   "display_name": "Python 3",
   "language": "python",
   "name": "python3"
  },
  "language_info": {
   "codemirror_mode": {
    "name": "ipython",
    "version": 3
   },
   "file_extension": ".py",
   "mimetype": "text/x-python",
   "name": "python",
   "nbconvert_exporter": "python",
   "pygments_lexer": "ipython3",
   "version": "3.8.3"
  }
 },
 "nbformat": 4,
 "nbformat_minor": 2
}
