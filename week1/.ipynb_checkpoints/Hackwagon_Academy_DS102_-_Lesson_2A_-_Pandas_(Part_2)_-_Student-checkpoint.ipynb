{
 "cells": [
  {
   "cell_type": "markdown",
   "metadata": {},
   "source": [
    "<center><img src=\"https://i2.wp.com/hackwagon.com/wp-content/uploads/2017/02/Logo-Web-Export.png?ssl=1\" width=200/></center>\n",
    "<h1> Hackwagon Academy DS102 Lesson 2A </h1>\n",
    "<h2> Pandas (Part 2)</h2> \n",
    "<h3> Lesson Outline </h3>\n",
    "\n",
    "- 1. [Recap](#1)\n",
    "    - 1.1 [Series](#1.1)\n",
    "    - 1.2 [DataFrame](#1.2)\n",
    "    - 1.3 [Filtering](#1.3)\n",
    "    - 1.4 [Descriptive Statistics](#1.4)\n",
    "    - [Practice I](#P1)\n",
    "- 2. [Data Cleaning - Transformation](#2)\n",
    "    - 2.1 [Functions Recap](#2.1)\n",
    "    - 2.2 [.apply()](#2.2)\n",
    "    - 2.3 [.replace()](#2.3)\n",
    "    - 2.4 [.map()](#2.3)\n",
    "    - [Practice II](#P2)\n",
    "- 3. [Univariate Analysis](#3)\n",
    "    - 3.1 [Interquartile Range (IQR)](#3.1)\n",
    "    - 3.2 [Outlier Detection](#3.2)\n",
    "    - [Practice III](#P3)\n",
    "- 4. [Data Aggregation](#4)\n",
    "    - 4.1 [GroupBy](#4.1)\n",
    "    - 4.2 [Simple Aggregation](#4.2)\n",
    "    - 4.3 [Advanced Aggregation](#4.3)\n",
    "    - 4.4 [Pokemon Dataset](#4.4)\n",
    "    - [Practice IV](#P4)"
   ]
  },
  {
   "cell_type": "markdown",
   "metadata": {},
   "source": [
    "### Import Libraries"
   ]
  },
  {
   "cell_type": "code",
   "execution_count": null,
   "metadata": {},
   "outputs": [],
   "source": [
    "import pandas as pd\n",
    "import numpy as np"
   ]
  },
  {
   "cell_type": "markdown",
   "metadata": {},
   "source": [
    "<hr/>\n",
    "\n",
    "<a id='1'><h2><img src=\"https://images.vexels.com/media/users/3/153978/isolated/preview/483ef8b10a46e28d02293a31570c8c56-warning-sign-colored-stroke-icon-by-vexels.png\" width=23 align=\"left\"><font color=\"salmon\">&nbsp;1.</font><font color=\"salmon\"> Recap </font> </h2></a>"
   ]
  },
  {
   "cell_type": "markdown",
   "metadata": {},
   "source": [
    "<a id='1.1'><h3>1.1 DataFrame</h3></a>\n",
    "\n",
    "A two-dimensional, tabular data structure with labeled axes (rows and columns), and is the **primary** pandas data structure. You can think of a `DataFrame` as a spreadsheet in Python.\n",
    "A `DataFrame` is made up of multiple `Series` objects stuck together vertically and horizontally. <br>"
   ]
  },
  {
   "cell_type": "code",
   "execution_count": null,
   "metadata": {},
   "outputs": [],
   "source": [
    "feedback_df = pd.read_csv('HWAPandasSandbox.csv')\n",
    "feedback_df.head()"
   ]
  },
  {
   "cell_type": "markdown",
   "metadata": {},
   "source": [
    "<a id='1.1'><h3>1.2 Series</h3></a>\n",
    "\n",
    "A `Series` == Row / Column of a `Dataframe`\n",
    "\n",
    "- Extracting a column from a `Dataframe` is very similar to accessing data in a `dictionary`. "
   ]
  },
  {
   "cell_type": "code",
   "execution_count": null,
   "metadata": {},
   "outputs": [],
   "source": [
    "feedback_df['Instructor']"
   ]
  },
  {
   "cell_type": "markdown",
   "metadata": {},
   "source": [
    "### Create New Column with Series \n",
    "\n",
    "We can create new columns to add to a DataFrame.\n",
    "\n",
    "```python\n",
    "    df['new_col_name'] = Series\n",
    "```"
   ]
  },
  {
   "cell_type": "code",
   "execution_count": null,
   "metadata": {},
   "outputs": [],
   "source": [
    "feedback_df['StudentsSquared'] = feedback_df['Students'] ** 2\n",
    "feedback_df.head()"
   ]
  },
  {
   "cell_type": "markdown",
   "metadata": {},
   "source": [
    "<a id='1.3'><h3>1.3 Filtering</h3></a>\n",
    "\n",
    "We can filter for results within a `DataFrame` to get the data we want. \n",
    "\n",
    "We specify the column we want to isolate in the DataFrame, then specify the boolean condition we are looking for. For example, we want to find the `Females` in the `Sex` column. \n",
    "\n",
    "```python\n",
    "df['sex'] == 'Females'\n",
    "\n",
    "# or for multiple conditions, we link them by & (and) or | (or) symbols\n",
    "# where each condition is surrounded by a ()\n",
    "\n",
    "(df['sex'] == 'Females') & (df['type_of_course'] == 'Medicine')\n",
    "\n",
    "```\n",
    "\n",
    "This gives us a Boolean Series of multiple `True` and `False` values. "
   ]
  },
  {
   "cell_type": "code",
   "execution_count": null,
   "metadata": {},
   "outputs": [],
   "source": [
    "ds101_only = feedback_df['ClassType'] == 'DS101'\n",
    "andre_only = feedback_df['Instructor'] == 'Andre'\n",
    "ds101_andre = feedback_df[ds101_only & andre_only]\n",
    "ds101_andre"
   ]
  },
  {
   "cell_type": "markdown",
   "metadata": {},
   "source": [
    "<a id='1.4'><h3>1.4 Descriptive Statistics</h3></a>\n",
    "\n",
    "`Dataframes` and `Series` objects have many useful methods to help you compute statistics.\n",
    "\n",
    "<table>\n",
    "  <tr>\n",
    "    <th>Statistical measure</th>\n",
    "    <th>Dataframe method</th>\n",
    "    <th>Series method</th>\n",
    "    <th>Description</th>\n",
    "  </tr>\n",
    "  <tr>\n",
    "    <td>Mean</td>\n",
    "    <td>df.mean()</td>\n",
    "    <td>df['column_name'].mean()</td>\n",
    "    <td>Returns the mean of all columns / the selected column</td>\n",
    "  </tr>\n",
    "  <tr>\n",
    "    <td>Median</td>\n",
    "    <td>df.median()</td>\n",
    "    <td>df['column_name'].median()</td>\n",
    "    <td>Returns the median of all columns / the selected column</td>\n",
    "  </tr>\n",
    "  <tr>\n",
    "    <td>Standard Deviation</td>\n",
    "    <td>df.std()</td>\n",
    "    <td>df['column_name'].std()</td>\n",
    "    <td>Returns the standard deviation of all columns / the selected column</td>\n",
    "  </tr>\n",
    "  <tr>\n",
    "    <td>Sum</td>\n",
    "    <td>df.sum()</td>\n",
    "    <td>df['column_name'].sum()</td>\n",
    "    <td>Returns the sum of all columns / the selected column</td>\n",
    "  </tr>\n",
    "  <tr>\n",
    "    <td>...</td>\n",
    "    <td>...</td>\n",
    "    <td>...</td>\n",
    "    <td>...</td>\n",
    "  </tr>\n",
    "</table>"
   ]
  },
  {
   "cell_type": "code",
   "execution_count": null,
   "metadata": {},
   "outputs": [],
   "source": [
    "feedback_df['Students'].mean()"
   ]
  },
  {
   "cell_type": "markdown",
   "metadata": {},
   "source": [
    "<a id='P1'><h2> <img src=\"https://cdn.shopify.com/s/files/1/1200/7374/products/book_aec28e76-52ec-44ab-bc01-41df1279c89f_550x825.png?v=1473897430\" width=25 align=\"left\"> <font color=\"darkorange\"> &nbsp; Practice I </font><font color=\"skyblue\"> * </font></h2></a>\n",
    "\n",
    "### Wines Dataset\n",
    "\n",
    "Read the `wines-3k.csv` dataset as `wines_df` (don't forget the `sep='|'` parameter) and preview the dataset with `.head()`."
   ]
  },
  {
   "cell_type": "code",
   "execution_count": null,
   "metadata": {
    "scrolled": true
   },
   "outputs": [],
   "source": [
    "wines_df = pd.read_csv('wines-3k.csv', sep='|')\n",
    "\n",
    "wines_df.head()"
   ]
  },
  {
   "cell_type": "markdown",
   "metadata": {},
   "source": [
    "### Restructure DataFrame to `country` and `price`\n",
    "\n",
    "**Expected Output:**\n",
    "\n",
    "<img src=\"https://i.imgur.com/ilPXbb4.png\">"
   ]
  },
  {
   "cell_type": "code",
   "execution_count": null,
   "metadata": {},
   "outputs": [],
   "source": []
  },
  {
   "cell_type": "markdown",
   "metadata": {},
   "source": [
    "### Filter for `Australia` wines and get their average `price`\n",
    "\n",
    "**Expected Output:**\n",
    "    \n",
    "    33.80232558139535"
   ]
  },
  {
   "cell_type": "code",
   "execution_count": null,
   "metadata": {},
   "outputs": [],
   "source": []
  },
  {
   "cell_type": "markdown",
   "metadata": {},
   "source": [
    "### Fill Missing Values With 0 and Sort `price` in Ascending Order\n",
    "\n",
    "**Expected Output:**\n",
    "    \n",
    "<img src=\"https://i.imgur.com/f4pLmni.png\">"
   ]
  },
  {
   "cell_type": "code",
   "execution_count": null,
   "metadata": {
    "scrolled": true
   },
   "outputs": [],
   "source": []
  },
  {
   "cell_type": "markdown",
   "metadata": {},
   "source": [
    "<a id='2'><h2><img src=\"https://images.vexels.com/media/users/3/153978/isolated/preview/483ef8b10a46e28d02293a31570c8c56-warning-sign-colored-stroke-icon-by-vexels.png\" width=23 align=\"left\"><font color=\"salmon\">&nbsp;2.</font><font color=\"salmon\"> Data Cleaning - Transformation </font> </h2></a>\n",
    "\n",
    "Pandas allow for quick data preprocessing and cleaning with useful methods such as:\n",
    "\n",
    "1. `.apply()`\n",
    "2. `.replace()`\n",
    "3. `.map()`"
   ]
  },
  {
   "cell_type": "markdown",
   "metadata": {},
   "source": [
    "<a id='2.1'><h3>2.1 Functions Recap</h3></a>\n",
    "\n",
    "<img src='https://i.imgur.com/jhpovl8.png' width=\"350\">"
   ]
  },
  {
   "cell_type": "code",
   "execution_count": null,
   "metadata": {},
   "outputs": [],
   "source": [
    "def give_first_item(a_list):\n",
    "    return a_list[0]"
   ]
  },
  {
   "cell_type": "code",
   "execution_count": null,
   "metadata": {},
   "outputs": [],
   "source": [
    "print(give_first_item([10,20,30,40]))\n",
    "print(give_first_item([100,200,300]))"
   ]
  },
  {
   "cell_type": "markdown",
   "metadata": {},
   "source": [
    "### The Lambda \n",
    "\n",
    "The `lambda` reserved keyword is a short form way of making a function.\n",
    "\n",
    "<img src=\"https://i.imgur.com/u7F81LJ.png\" width='200'>"
   ]
  },
  {
   "cell_type": "code",
   "execution_count": null,
   "metadata": {},
   "outputs": [],
   "source": [
    "lambda x: x[0]\n",
    "\n"
   ]
  },
  {
   "cell_type": "markdown",
   "metadata": {},
   "source": [
    "### Hackwagon Pandas Sandbox \n",
    "\n",
    "Open the pandas sandbox dataset"
   ]
  },
  {
   "cell_type": "code",
   "execution_count": null,
   "metadata": {},
   "outputs": [],
   "source": [
    "feedback_df = pd.read_csv('HWAPandasSandbox.csv')\n",
    "feedback_df.head()"
   ]
  },
  {
   "cell_type": "markdown",
   "metadata": {},
   "source": [
    "<a id='2.2'><h3>2.2  <code>.apply()</code></h3></a>\n",
    "\n",
    "The `.apply()` function is very useful for data cleaning a variable in a dataset. \n",
    "\n",
    "<img src=\"https://i.imgur.com/99M6Vl7.png\" width=\"400\">\n",
    "<img src=\"https://i.imgur.com/4e6B9RM.png\" width=\"500\">\n",
    "\n",
    "Even after applying the method, <b>it does not change the column of df permanently.</b> The method returns a new Series object, where you can store it as another variable."
   ]
  },
  {
   "cell_type": "code",
   "execution_count": null,
   "metadata": {},
   "outputs": [],
   "source": []
  },
  {
   "cell_type": "markdown",
   "metadata": {},
   "source": [
    "<a id='2.3'><h3>2.3  <code>.replace()</code></h3></a>\n",
    "\n",
    "The `.replace()` method works similarly to `.apply()` but just that its parameter takes in a <b>single value or a list</b> and it requires a second argument, a value to be replaced with.\n",
    "\n",
    "### Investigate Unique\n",
    "\n",
    "To effectively use replace properly, we need to first investigate if the number of unique values within a variable. We can do that by using `.unique()`. "
   ]
  },
  {
   "cell_type": "code",
   "execution_count": null,
   "metadata": {},
   "outputs": [],
   "source": [
    "feedback_df['Rating'].unique()"
   ]
  },
  {
   "cell_type": "markdown",
   "metadata": {},
   "source": [
    "### Use `.replace()`\n",
    "<img src=\"https://i.imgur.com/lW14HGv.png\" width=\"400\">\n",
    "<img src=\"https://i.imgur.com/0Xl0YQ9.png\" width=\"500\">\n",
    "\n",
    "Similar to the `.apply()` method, even after applying the method, <b>it does not change the column of df permanently.</b> The method returns a new Series object. Therefore it needs to be stored back to the same column or a new column in the DataFrame."
   ]
  },
  {
   "cell_type": "code",
   "execution_count": null,
   "metadata": {},
   "outputs": [],
   "source": []
  },
  {
   "cell_type": "markdown",
   "metadata": {},
   "source": [
    "<a id='2.4'><h3>2.4  <code>.map()</code></h3></a>\n",
    "\n",
    "Sometimes there are too many unique values to change/replace, this is where the `.map()` method becomes effective. To use it effectively, we need to get a dictionary mapping of the \n",
    "\n",
    "### Investigate Unique\n",
    "\n",
    "To effectively use replace properly, we need to first investigate if the number of unique values within a variable. We can do that by using `.unique()`."
   ]
  },
  {
   "cell_type": "code",
   "execution_count": null,
   "metadata": {},
   "outputs": [],
   "source": [
    "feedback_df['ClassType'].unique()"
   ]
  },
  {
   "cell_type": "markdown",
   "metadata": {},
   "source": [
    "### Use `.map()`\n",
    "<img src=\"https://i.imgur.com/01y9Z11.png\" width=\"400\">\n",
    "<img src=\"https://i.imgur.com/WXVfjDE.png\" width=\"500\">\n",
    "\n",
    "Similar to the `.apply()` method, even after applying the method, <b>it does not change the column of df permanently.</b> The method returns a new Series object. Therefore it needs to be stored back to the same column or a new column in the DataFrame."
   ]
  },
  {
   "cell_type": "code",
   "execution_count": null,
   "metadata": {},
   "outputs": [],
   "source": []
  },
  {
   "cell_type": "markdown",
   "metadata": {},
   "source": [
    "<a id='P2'><h2> <img src=\"https://cdn.shopify.com/s/files/1/1200/7374/products/book_aec28e76-52ec-44ab-bc01-41df1279c89f_550x825.png?v=1473897430\" width=25 align=\"left\"> <font color=\"darkorange\"> &nbsp; Practice II </font><font color=\"skyblue\"> * </font></h2></a>\n",
    "\n",
    "### Pokemon Dataset\n",
    "\n",
    "Read the `pokemon.csv` as a DataFrame called `pokemon_df`."
   ]
  },
  {
   "cell_type": "code",
   "execution_count": null,
   "metadata": {},
   "outputs": [],
   "source": []
  },
  {
   "cell_type": "markdown",
   "metadata": {},
   "source": [
    "### Calculate Min Max\n",
    "\n",
    "Create 2 variables that has the maxmimum and minimum value of the `Speed` column, naming them `max_speed` and `min_speed`.\n",
    "\n",
    "**Expected Output:**\n",
    "``` python   \n",
    "    180 # max speed\n",
    "    5 # min speed\n",
    "```"
   ]
  },
  {
   "cell_type": "code",
   "execution_count": null,
   "metadata": {},
   "outputs": [],
   "source": []
  },
  {
   "cell_type": "markdown",
   "metadata": {},
   "source": [
    "### Create Normalise Function\n",
    "\n",
    "Using the two variables created above, prepare a function called `calculate_normalised_speed()` that has a parameter `speed`. Inside the function, it should return the result of the following formula:\n",
    "\n",
    "$$\n",
    "\\text{Normalised Speed}_x = \\frac{Speed_x - Speed_{min}}{Speed_{max} - Speed_{min}}\n",
    "$$\n",
    "\n",
    "_You can use `lambda` or `def`_"
   ]
  },
  {
   "cell_type": "code",
   "execution_count": null,
   "metadata": {},
   "outputs": [],
   "source": []
  },
  {
   "cell_type": "markdown",
   "metadata": {},
   "source": [
    "### Using `.apply()`, Create New Column\n",
    "\n",
    "Using the `.apply()` method on the `Speed` column, create a new column called `Normalised_Speed` to the `df`. <b>Make sure you store it back to the `pokemon_df`</b>"
   ]
  },
  {
   "cell_type": "code",
   "execution_count": null,
   "metadata": {},
   "outputs": [],
   "source": []
  },
  {
   "cell_type": "markdown",
   "metadata": {},
   "source": [
    "### Use `.head()` to preview newly altered df\n",
    "\n",
    "<b>Expected Output:</b>\n",
    "    \n",
    "<img src=\"https://i.imgur.com/BFIq4Hz.png\">"
   ]
  },
  {
   "cell_type": "code",
   "execution_count": null,
   "metadata": {},
   "outputs": [],
   "source": []
  },
  {
   "cell_type": "markdown",
   "metadata": {},
   "source": [
    "### Use `.to_csv()` to save your preprocessed data\n",
    "\n",
    "Save the new df as a new csv file with the `.to_csv()` with `normalised_pokemon.csv` as the name in the ()."
   ]
  },
  {
   "cell_type": "code",
   "execution_count": null,
   "metadata": {},
   "outputs": [],
   "source": []
  },
  {
   "cell_type": "markdown",
   "metadata": {},
   "source": [
    "<a id='3'><h2><img src=\"https://images.vexels.com/media/users/3/153978/isolated/preview/483ef8b10a46e28d02293a31570c8c56-warning-sign-colored-stroke-icon-by-vexels.png\" width=23 align=\"left\"><font color=\"salmon\">&nbsp;3.</font><font color=\"salmon\"> Univariate Analysis</font> </h2></a>\n",
    "\n",
    "In Univariate Analysis, we want to understand a single variable dataset. The common measures include:\n",
    "\n",
    "1. Mean (Average)\n",
    "2. Median \n",
    "3. Mode \n",
    "4. Max & Min \n",
    "5. Spread \n",
    "\n",
    "One of the most useful measure is understanding the spread of a variable. To measure spread we need to understand the following: \n",
    "- Variance & Standard Deviation (learnt last lesson)\n",
    "- Interquartile Range \n",
    "\n",
    "Once we understand the spread of our dataset, we can also detect <b>outliers</b> within the dataset. We're now going to understand how to understand the spread and distribution of the dataset, then detect the outliers of our dataset."
   ]
  },
  {
   "cell_type": "markdown",
   "metadata": {},
   "source": [
    "<a id='3.1'><h3>3.1 Interquartile Range (IQR)</h3></a>\n",
    "\n",
    "A good statistic for summarizing a non-Gaussian (normal) distribution sample of data is the Interquartile Range, IQR. The values are arranged from the lowest to the highest, \n",
    "- the **first quartile** is the value where 25% of values are below the value. It is also called the 25th percentile\n",
    "- the **second quartile** is the value where 50% of values are below the value. It is also called the 50th percentile or the median\n",
    "- the **third quartile** is the value where 75% of values are below the value. It is also called the 75th percentile\n",
    "\n",
    "<img src=\"https://i.imgur.com/27S1Rkh.png\" width=\"400\">\n",
    "<img src=\"https://i.imgur.com/urMTl4I.png\" width=\"400\">\n",
    "<img src=\"https://i.imgur.com/9SIeV9P.png\" width=\"400\">"
   ]
  },
  {
   "cell_type": "markdown",
   "metadata": {},
   "source": [
    "<a id='3.2'><h3>3.2 Outlier Detection</h3></a>\n",
    "\n",
    "An outlier is an observation that is unlike the other observations. It is rare, or distinct, or does not fit in some way. Outliers can have many causes, such as:\n",
    "\n",
    "- Measurement or input error\n",
    "- Data corruption\n",
    "- True outlier observation (e.g. Michael Jordan in basketball)\n",
    "\n",
    "<img src=\"https://i.imgur.com/qB3Mynv.png\" width=\"500\">"
   ]
  },
  {
   "cell_type": "markdown",
   "metadata": {},
   "source": [
    "<a id='P1'><h2> <img src=\"https://cdn.shopify.com/s/files/1/1200/7374/products/book_aec28e76-52ec-44ab-bc01-41df1279c89f_550x825.png?v=1473897430\" width=25 align=\"left\"> <font color=\"darkorange\"> &nbsp; Practice III </font><font color=\"skyblue\"> * </font></h2></a>\n",
    "\n",
    "### Seattle Wages\n",
    "\n",
    "Prepare the Seattle Wages dataset and let's investigate the possible outliers of this dataset based on `Hourly Rate`. \n",
    "\n",
    "Open the `seattle-wages-2k.csv` and open it with pandas and store into a variable called `wages_df`. Preview the dataset with `.head()`."
   ]
  },
  {
   "cell_type": "code",
   "execution_count": null,
   "metadata": {},
   "outputs": [],
   "source": []
  },
  {
   "cell_type": "markdown",
   "metadata": {},
   "source": [
    "### Calculate the Quartiles\n",
    "\n",
    "Using `.quantile()` get Q1 and Q3 and store them in variables `quartile_1` and `quartile_3`. Inside this function set the `q=` parameter to the % of the quartile.\n",
    "\n",
    "**Expected Output:**\n",
    "```python\n",
    "    29.09 # quartile_1\n",
    "    47.9775 # quartile_3\n",
    "```"
   ]
  },
  {
   "cell_type": "code",
   "execution_count": null,
   "metadata": {},
   "outputs": [],
   "source": []
  },
  {
   "cell_type": "markdown",
   "metadata": {},
   "source": [
    "### Calculate the IQR \n",
    "\n",
    "Using the above variables, calculate the IQR and store it in the variable `IQR`.\n",
    "\n",
    "**Expected Output:**\n",
    "\n",
    "    18.8875"
   ]
  },
  {
   "cell_type": "code",
   "execution_count": null,
   "metadata": {},
   "outputs": [],
   "source": []
  },
  {
   "cell_type": "markdown",
   "metadata": {},
   "source": [
    "### Calculate Bounds\n",
    "\n",
    "Using the variables above, calculate the upper and lower bounds and store them into the variables `lower_bound` and `upper_bound`.\n",
    "\n",
    "**Expected Output:**\n",
    "```python\n",
    "    0.7587500000000027 # lower bound\n",
    "    76.30875 # upper bound\n",
    "```"
   ]
  },
  {
   "cell_type": "code",
   "execution_count": null,
   "metadata": {},
   "outputs": [],
   "source": []
  },
  {
   "cell_type": "markdown",
   "metadata": {},
   "source": [
    "### Filter Data for Rows Within Bound\n",
    "\n",
    "Using what you have learnt about filtering, retrieve the data which are deemed as outliers. You should use the variables you've created above. Store this data as variable `outliers_df`.\n",
    "\n",
    "**Expected Output:**\n",
    "```python\n",
    "    print(len(outliers_df)) # 24\n",
    "```"
   ]
  },
  {
   "cell_type": "code",
   "execution_count": null,
   "metadata": {},
   "outputs": [],
   "source": []
  },
  {
   "cell_type": "markdown",
   "metadata": {},
   "source": [
    "### Visualise (End of Practice)\n",
    "\n",
    "When you've completed the above practice, you can cross check your answers with the visualisation below. "
   ]
  },
  {
   "cell_type": "code",
   "execution_count": null,
   "metadata": {},
   "outputs": [],
   "source": [
    "import matplotlib.pyplot as plt\n",
    "\n",
    "# Visualise to confirm\n",
    "fig = plt.figure(figsize=(3, 12))\n",
    "# fig = plt.figure(figsize=(3, 100)) # Use this to examine the outliers in greater detail\n",
    "ax1 = plt.subplot(111)\n",
    "# Plot the boxplot and add the relevant features of the plot\n",
    "ax1.boxplot(wages_df['Hourly_Rate'], sym='+', whis=1.5)\n",
    "ax1.set_ylabel('Hourly Rate')\n",
    "ax1.set_title('Box plot for Hourly_Rate')\n",
    "plt.xticks([1], ['Employees'])\n",
    "# Set the yticks of the dataset\n",
    "ax1.set_yticks(np.arange(0, 120, 5))\n",
    "ax1.set_yticklabels(labels=np.arange(0, 120, 5), fontsize=8)\n",
    "# Use grid to show the gridlines in the plot\n",
    "ax1.yaxis.grid(True, linestyle='-', color='lightgrey', alpha=0.5)\n",
    "plt.show()"
   ]
  },
  {
   "cell_type": "markdown",
   "metadata": {},
   "source": [
    "### Use `.to_csv()` to save the outliers\n",
    "\n",
    "Save the new df as a new csv file with the `.to_csv()` with `outliers.csv` as the name in the ()."
   ]
  },
  {
   "cell_type": "code",
   "execution_count": null,
   "metadata": {},
   "outputs": [],
   "source": []
  },
  {
   "cell_type": "markdown",
   "metadata": {},
   "source": [
    "<a id='4'><h2><img src=\"https://images.vexels.com/media/users/3/153978/isolated/preview/483ef8b10a46e28d02293a31570c8c56-warning-sign-colored-stroke-icon-by-vexels.png\" width=23 align=\"left\"><font color=\"salmon\">&nbsp;4.</font><font color=\"salmon\"> Data Aggregation</font> </h2></a>"
   ]
  },
  {
   "cell_type": "code",
   "execution_count": null,
   "metadata": {},
   "outputs": [],
   "source": [
    "feedback_df = pd.read_csv('HWAPandasSandbox.csv')\n",
    "feedback_df.head()"
   ]
  },
  {
   "cell_type": "markdown",
   "metadata": {},
   "source": [
    "<a id='4.1'><h3>4.1 Groupby</h3></a>\n",
    "\n",
    "Groupby is one of the most useful methods when trying to categorize data within variable. As the name suggest, you are trying to <b>Group</b> the data <b>by</b> something.\n",
    "\n",
    "<img src=\"https://i.imgur.com/cfgImho.png\" width=\"500\">\n",
    "<img src=\"https://i.imgur.com/KrbyyNy.png\" width=\"500\">\n",
    "\n",
    "#### It is important to know that Groupby objects can't be seen, so don't be alarmed if you don't see it"
   ]
  },
  {
   "cell_type": "code",
   "execution_count": null,
   "metadata": {},
   "outputs": [],
   "source": []
  },
  {
   "cell_type": "markdown",
   "metadata": {},
   "source": [
    "<a id='4.2'><h3>4.2 Simple Aggregation</h3></a>\n",
    "\n",
    "With a Groupby object, you can apply many aggregation methods, applied to <b>numeric</b> columns, such as:\n",
    "\n",
    "1. `.sum()` - sums up based on category\n",
    "2. `.mean()` - gets average based on category\n",
    "3. `.min()` - gets minimum based on category\n",
    "4. `.max()` - gets maximum based on category\n",
    "5. `.size()` - gets count based on category\n",
    "\n",
    "and many more..\n",
    "\n",
    "<img src=\"https://i.imgur.com/8QKUYiL.png\" width=\"500\">"
   ]
  },
  {
   "cell_type": "code",
   "execution_count": null,
   "metadata": {},
   "outputs": [],
   "source": []
  },
  {
   "cell_type": "markdown",
   "metadata": {},
   "source": [
    "<a id='2.3'><h3>2.3 Advanced Aggregation</h3></a>\n",
    "\n",
    "You can also have multiple aggregation methods put together within a Groupby object by using the `.agg()` where the function accepts a <b>Dictionary</b>, where the key is column name and the value is a <b>list</b> of methods mentioned above. \n",
    "\n",
    "<img src=\"https://i.imgur.com/erWO1yw.png\" width=\"500\">"
   ]
  },
  {
   "cell_type": "code",
   "execution_count": null,
   "metadata": {},
   "outputs": [],
   "source": [
    "agg_dictionary = {\n",
    "    \"Students\": [\"max\",\"min\",\"sum\"]\n",
    "}\n",
    "classtype_gb.agg(agg_dictionary)"
   ]
  },
  {
   "cell_type": "markdown",
   "metadata": {},
   "source": [
    "<a id='P4'><h2> <img src=\"https://cdn.shopify.com/s/files/1/1200/7374/products/book_aec28e76-52ec-44ab-bc01-41df1279c89f_550x825.png?v=1473897430\" width=25 align=\"left\"> <font color=\"darkorange\"> &nbsp; Practice IV </font><font color=\"skyblue\"> * </font></h2></a>\n",
    "\n",
    "### Pokemon Dataset\n",
    "\n",
    "Open the `pokemon.csv` and open it with pandas as `pokemon_df`. Preview the dataset with `.head()`."
   ]
  },
  {
   "cell_type": "code",
   "execution_count": null,
   "metadata": {},
   "outputs": [],
   "source": []
  },
  {
   "cell_type": "markdown",
   "metadata": {},
   "source": [
    "### Filter by `Type`\n",
    "\n",
    "Filter the dataset to just `Grass`, `Fire` and `Water`. Store this in a new df called `grass_fire_water_df`.\n",
    "\n",
    "_Hint: use .isin()_"
   ]
  },
  {
   "cell_type": "code",
   "execution_count": null,
   "metadata": {},
   "outputs": [],
   "source": []
  },
  {
   "cell_type": "markdown",
   "metadata": {},
   "source": [
    "### Group by `Type`\n",
    "\n",
    "From the filtered DataFrame above, create a GroupBy object called `grass_fire_water_gb`."
   ]
  },
  {
   "cell_type": "code",
   "execution_count": null,
   "metadata": {},
   "outputs": [],
   "source": []
  },
  {
   "cell_type": "markdown",
   "metadata": {},
   "source": [
    "### Get Number of Pokemons For Each `Type`\n",
    "\n",
    "From the above Groupby object, use `.size()` get the number of pokemon of each type."
   ]
  },
  {
   "cell_type": "code",
   "execution_count": null,
   "metadata": {},
   "outputs": [],
   "source": []
  },
  {
   "cell_type": "markdown",
   "metadata": {},
   "source": [
    "### Find Max HP Legendary and Non Legendary Pokemon\n",
    "\n",
    "1. Isolate the `HP` and `Legendary` columns in a DataFrame from `pokemon_df`\n",
    "2. Group by `Legendary`\n",
    "3. Apply `.max()` on the Groupby object.\n",
    "\n",
    "**Expected Output:**\n",
    "    \n",
    "<img src=\"https://i.imgur.com/zLftmod.png\" width=\"100\" align=\"left\">"
   ]
  },
  {
   "cell_type": "code",
   "execution_count": null,
   "metadata": {},
   "outputs": [],
   "source": []
  },
  {
   "cell_type": "markdown",
   "metadata": {},
   "source": [
    "**Credits**\n",
    "- [City of Seattle Wage Data](https://data.seattle.gov/City-Business/City-of-Seattle-Wage-Data/2khk-5ukd) for the dataset\n",
    "- [Pokemon with stats, Kaggle](https://www.kaggle.com/abcsds/pokemon) for the dataset"
   ]
  }
 ],
 "metadata": {
  "kernelspec": {
   "display_name": "Python 3",
   "language": "python",
   "name": "python3"
  },
  "language_info": {
   "codemirror_mode": {
    "name": "ipython",
    "version": 3
   },
   "file_extension": ".py",
   "mimetype": "text/x-python",
   "name": "python",
   "nbconvert_exporter": "python",
   "pygments_lexer": "ipython3",
   "version": "3.8.3"
  }
 },
 "nbformat": 4,
 "nbformat_minor": 2
}
